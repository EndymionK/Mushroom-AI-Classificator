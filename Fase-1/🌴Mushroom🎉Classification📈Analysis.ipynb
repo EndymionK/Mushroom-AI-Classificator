{
  "cells": [
    {
      "cell_type": "code",
      "execution_count": 73,
      "metadata": {
        "colab": {
          "base_uri": "https://localhost:8080/"
        },
        "id": "tJkUd3YEYfEP",
        "outputId": "b0cd5f4c-0606-4aae-a138-aa2162b3fb74"
      },
      "outputs": [
        {
          "name": "stdout",
          "output_type": "stream",
          "text": [
            "Downloading playground-series-s4e8, 86301661 bytes compressed\n",
            "[==================================================] 86301661 bytes downloaded\n",
            "Downloaded and uncompressed: playground-series-s4e8\n",
            "Downloading mushroom-classification, 35057 bytes compressed\n",
            "[==================================================] 35057 bytes downloaded\n",
            "Downloaded and uncompressed: mushroom-classification\n",
            "Data source import complete.\n"
          ]
        }
      ],
      "source": [
        "\n",
        "import os\n",
        "import sys\n",
        "from tempfile import NamedTemporaryFile\n",
        "from urllib.request import urlopen\n",
        "from urllib.parse import unquote, urlparse\n",
        "from urllib.error import HTTPError\n",
        "from zipfile import ZipFile\n",
        "import tarfile\n",
        "import shutil\n",
        "import platform\n",
        "\n",
        "CHUNK_SIZE = 40960\n",
        "DATA_SOURCE_MAPPING = 'playground-series-s4e8:https%3A%2F%2Fstorage.googleapis.com%2Fkaggle-competitions-data%2Fkaggle-v2%2F76727%2F9045607%2Fbundle%2Farchive.zip%3FX-Goog-Algorithm%3DGOOG4-RSA-SHA256%26X-Goog-Credential%3Dgcp-kaggle-com%2540kaggle-161607.iam.gserviceaccount.com%252F20240824%252Fauto%252Fstorage%252Fgoog4_request%26X-Goog-Date%3D20240824T215415Z%26X-Goog-Expires%3D259200%26X-Goog-SignedHeaders%3Dhost%26X-Goog-Signature%3D3e21a1fc93e05efdd93a76c3ea5d164d2aee454ea2475514497308f4fb0f4e0fdb899a1c7eb9ea9cb0551657c617d14f7abe5e459b24e7103d880c1a010579e03481b3d95139ac187afb68697242c03431908861e00bb02cb9c4e63c254ca3a85efb168ecfd3329e1359449a8a5c86d71f41d2e1287e6665eee21d306f8275ebe9338f0a026b276dbbed1782b142f6c865efdbb29f469ca3abe3ee3302a9e5869c1b28ddeb1cd41478769e392dad15865789f37e4a071a096c2ef6d1709391b621687db383bc9845e37a109a8915c36d213289dc4b7f6d2f6a3db5e3ee1d36f2a59a6b9865db862e6e0b1c4b258aa18be02fb191413ee16381b4a060f39a5ead,mushroom-classification:https%3A%2F%2Fstorage.googleapis.com%2Fkaggle-data-sets%2F478%2F974%2Fbundle%2Farchive.zip%3FX-Goog-Algorithm%3DGOOG4-RSA-SHA256%26X-Goog-Credential%3Dgcp-kaggle-com%2540kaggle-161607.iam.gserviceaccount.com%252F20240824%252Fauto%252Fstorage%252Fgoog4_request%26X-Goog-Date%3D20240824T215415Z%26X-Goog-Expires%3D259200%26X-Goog-SignedHeaders%3Dhost%26X-Goog-Signature%3D8c7263c0910736e34c22d9d13202af556945b937661f29e1259a91e6111516318d23a82ce83bf577beff2624336a281226c2f2162b5938b902bb49f4eeb7a1219d0cc0f372201c2b5559037256aa356d16432840b3e56b810501910a1fa0be98c8582ebba48e197e2e5b6354a818e4bcccbcf834176cd391dcea501aa6af9526f90feb49440996b09a404f5eaeb9fd4623e84e9f37c31bc219d133065c11a98fb99ff7a6967d050551d2c42b162f7f8a64936770922569b857290859fdf46677dfd9077ca2dd7ccda1f8f78645460895f90a61e6e3de27b4fec972df9ac8df5db85512d7e7772edd4a3eb1efe652836007dceb9b72e4d729e526549861ad69ae'\n",
        "\n",
        "KAGGLE_INPUT_PATH='/kaggle/input'\n",
        "KAGGLE_WORKING_PATH='/kaggle/working'\n",
        "\n",
        "os.makedirs(KAGGLE_INPUT_PATH, 0o777, exist_ok=True)\n",
        "os.makedirs(KAGGLE_WORKING_PATH, 0o777, exist_ok=True)\n",
        "\n",
        "# Solo crear symlinks si no estás en Windows\n",
        "if platform.system() != 'Windows':\n",
        "    try:\n",
        "        os.symlink(KAGGLE_INPUT_PATH, os.path.join(\"..\", 'input'), target_is_directory=True)\n",
        "    except FileExistsError:\n",
        "        pass\n",
        "    try:\n",
        "        os.symlink(KAGGLE_WORKING_PATH, os.path.join(\"..\", 'working'), target_is_directory=True)\n",
        "    except FileExistsError:\n",
        "        pass\n",
        "\n",
        "\n",
        "for data_source_mapping in DATA_SOURCE_MAPPING.split(','):\n",
        "    directory, download_url_encoded = data_source_mapping.split(':')\n",
        "    download_url = unquote(download_url_encoded)\n",
        "    filename = urlparse(download_url).path\n",
        "    destination_path = os.path.join(KAGGLE_INPUT_PATH, directory)\n",
        "    try:\n",
        "        with urlopen(download_url) as fileres, NamedTemporaryFile() as tfile:\n",
        "            total_length = fileres.headers['content-length']\n",
        "            print(f'Downloading {directory}, {total_length} bytes compressed')\n",
        "            dl = 0\n",
        "            data = fileres.read(CHUNK_SIZE)\n",
        "            while len(data) > 0:\n",
        "                dl += len(data)\n",
        "                tfile.write(data)\n",
        "                done = int(50 * dl / int(total_length))\n",
        "                sys.stdout.write(f\"\\r[{'=' * done}{' ' * (50-done)}] {dl} bytes downloaded\")\n",
        "                sys.stdout.flush()\n",
        "                data = fileres.read(CHUNK_SIZE)\n",
        "            if filename.endswith('.zip'):\n",
        "              with ZipFile(tfile) as zfile:\n",
        "                zfile.extractall(destination_path)\n",
        "            else:\n",
        "              with tarfile.open(tfile.name) as tarfile:\n",
        "                tarfile.extractall(destination_path)\n",
        "            print(f'\\nDownloaded and uncompressed: {directory}')\n",
        "    except HTTPError as e:\n",
        "        print(f'Failed to load (likely expired) {download_url} to path {destination_path}')\n",
        "        continue\n",
        "    except OSError as e:\n",
        "        print(f'Failed to load {download_url} to path {destination_path}')\n",
        "        continue\n",
        "\n",
        "print('Data source import complete.')\n"
      ]
    },
    {
      "cell_type": "markdown",
      "metadata": {
        "id": "sUba86CkYfET"
      },
      "source": [
        "<div class=\"alert alert-success\">  \n",
        "    <h1 align=\"center\" style=\"color:darkgoldenrod;\">Importing Libraries</h1>  \n",
        "     \n",
        "</div>"
      ]
    },
    {
      "cell_type": "code",
      "execution_count": 74,
      "metadata": {
        "colab": {
          "base_uri": "https://localhost:8080/"
        },
        "execution": {
          "iopub.execute_input": "2024-08-23T05:34:54.466656Z",
          "iopub.status.busy": "2024-08-23T05:34:54.466177Z",
          "iopub.status.idle": "2024-08-23T05:34:58.317726Z",
          "shell.execute_reply": "2024-08-23T05:34:58.316377Z",
          "shell.execute_reply.started": "2024-08-23T05:34:54.466595Z"
        },
        "id": "xN3i3xtjYfET",
        "outputId": "afcb5cef-cf8f-40ca-a704-d05e927fc53e",
        "trusted": true
      },
      "outputs": [],
      "source": [
        "import numpy as np\n",
        "import pandas as pd\n",
        "import matplotlib.pyplot as plt\n",
        "from sklearn.model_selection import train_test_split\n",
        "from sklearn.metrics import mean_squared_error\n",
        "from xgboost import XGBRegressor\n",
        "import lightgbm as lgb\n",
        "import gc"
      ]
    },
    {
      "cell_type": "markdown",
      "metadata": {
        "id": "9ivioKwrYfEU"
      },
      "source": [
        "<div class=\"alert alert-success\">  \n",
        "    <h1 align=\"center\" style=\"color:darkgoldenrod;\">🎇🌭Loading  Dataset ♒🌊</h1>  \n",
        "     \n",
        "</div>"
      ]
    },
    {
      "cell_type": "code",
      "execution_count": 75,
      "metadata": {
        "execution": {
          "iopub.execute_input": "2024-08-23T05:34:58.321322Z",
          "iopub.status.busy": "2024-08-23T05:34:58.320513Z",
          "iopub.status.idle": "2024-08-23T05:35:20.420584Z",
          "shell.execute_reply": "2024-08-23T05:35:20.41925Z",
          "shell.execute_reply.started": "2024-08-23T05:34:58.321262Z"
        },
        "id": "5vATRTBOYfEU",
        "trusted": true
      },
      "outputs": [],
      "source": [
        "df_sub=pd.read_csv(\"/kaggle/input/playground-series-s4e8/sample_submission.csv\")\n",
        "df_train=pd.read_csv(\"/kaggle/input/playground-series-s4e8/train.csv\")\n",
        "df_test=pd.read_csv(\"/kaggle/input/playground-series-s4e8/test.csv\")"
      ]
    },
    {
      "cell_type": "markdown",
      "metadata": {
        "id": "LTR3EoC9YfEU"
      },
      "source": [
        "<p style=\"font-family: 'Amiri', serif; font-size: 3rem; color: black; text-align: center; margin: 0; text-shadow: 2px 2px 4px rgba(0, 0, 0, 0.3); background-color: grey; padding: 10px; border-radius: 10px; border: 7px solid cyan; width: 95%;\">\n",
        "  <span style=\"font-weight: bold; color: blue; animation: pulse 2s infinite;\">📉Check </span>\n",
        "  <span style=\"font-style: italic; color: #2ca02c; animation: pulse 2s infinite;\"> on Data  📊</span>\n",
        "</p>"
      ]
    },
    {
      "cell_type": "code",
      "execution_count": 76,
      "metadata": {
        "colab": {
          "base_uri": "https://localhost:8080/",
          "height": 253
        },
        "execution": {
          "iopub.execute_input": "2024-08-23T05:35:20.42304Z",
          "iopub.status.busy": "2024-08-23T05:35:20.422438Z",
          "iopub.status.idle": "2024-08-23T05:35:20.472745Z",
          "shell.execute_reply": "2024-08-23T05:35:20.471556Z",
          "shell.execute_reply.started": "2024-08-23T05:35:20.422981Z"
        },
        "id": "STXJ06idYfEV",
        "outputId": "e721e5f8-105d-4f3e-9d5f-5778dab3ba0c",
        "trusted": true
      },
      "outputs": [
        {
          "data": {
            "text/html": [
              "<div>\n",
              "<style scoped>\n",
              "    .dataframe tbody tr th:only-of-type {\n",
              "        vertical-align: middle;\n",
              "    }\n",
              "\n",
              "    .dataframe tbody tr th {\n",
              "        vertical-align: top;\n",
              "    }\n",
              "\n",
              "    .dataframe thead th {\n",
              "        text-align: right;\n",
              "    }\n",
              "</style>\n",
              "<table border=\"1\" class=\"dataframe\">\n",
              "  <thead>\n",
              "    <tr style=\"text-align: right;\">\n",
              "      <th></th>\n",
              "      <th>id</th>\n",
              "      <th>class</th>\n",
              "      <th>cap-diameter</th>\n",
              "      <th>cap-shape</th>\n",
              "      <th>cap-surface</th>\n",
              "      <th>cap-color</th>\n",
              "      <th>does-bruise-or-bleed</th>\n",
              "      <th>gill-attachment</th>\n",
              "      <th>gill-spacing</th>\n",
              "      <th>gill-color</th>\n",
              "      <th>...</th>\n",
              "      <th>stem-root</th>\n",
              "      <th>stem-surface</th>\n",
              "      <th>stem-color</th>\n",
              "      <th>veil-type</th>\n",
              "      <th>veil-color</th>\n",
              "      <th>has-ring</th>\n",
              "      <th>ring-type</th>\n",
              "      <th>spore-print-color</th>\n",
              "      <th>habitat</th>\n",
              "      <th>season</th>\n",
              "    </tr>\n",
              "  </thead>\n",
              "  <tbody>\n",
              "    <tr>\n",
              "      <th>0</th>\n",
              "      <td>0</td>\n",
              "      <td>e</td>\n",
              "      <td>8.80</td>\n",
              "      <td>f</td>\n",
              "      <td>s</td>\n",
              "      <td>u</td>\n",
              "      <td>f</td>\n",
              "      <td>a</td>\n",
              "      <td>c</td>\n",
              "      <td>w</td>\n",
              "      <td>...</td>\n",
              "      <td>NaN</td>\n",
              "      <td>NaN</td>\n",
              "      <td>w</td>\n",
              "      <td>NaN</td>\n",
              "      <td>NaN</td>\n",
              "      <td>f</td>\n",
              "      <td>f</td>\n",
              "      <td>NaN</td>\n",
              "      <td>d</td>\n",
              "      <td>a</td>\n",
              "    </tr>\n",
              "    <tr>\n",
              "      <th>1</th>\n",
              "      <td>1</td>\n",
              "      <td>p</td>\n",
              "      <td>4.51</td>\n",
              "      <td>x</td>\n",
              "      <td>h</td>\n",
              "      <td>o</td>\n",
              "      <td>f</td>\n",
              "      <td>a</td>\n",
              "      <td>c</td>\n",
              "      <td>n</td>\n",
              "      <td>...</td>\n",
              "      <td>NaN</td>\n",
              "      <td>y</td>\n",
              "      <td>o</td>\n",
              "      <td>NaN</td>\n",
              "      <td>NaN</td>\n",
              "      <td>t</td>\n",
              "      <td>z</td>\n",
              "      <td>NaN</td>\n",
              "      <td>d</td>\n",
              "      <td>w</td>\n",
              "    </tr>\n",
              "    <tr>\n",
              "      <th>2</th>\n",
              "      <td>2</td>\n",
              "      <td>e</td>\n",
              "      <td>6.94</td>\n",
              "      <td>f</td>\n",
              "      <td>s</td>\n",
              "      <td>b</td>\n",
              "      <td>f</td>\n",
              "      <td>x</td>\n",
              "      <td>c</td>\n",
              "      <td>w</td>\n",
              "      <td>...</td>\n",
              "      <td>NaN</td>\n",
              "      <td>s</td>\n",
              "      <td>n</td>\n",
              "      <td>NaN</td>\n",
              "      <td>NaN</td>\n",
              "      <td>f</td>\n",
              "      <td>f</td>\n",
              "      <td>NaN</td>\n",
              "      <td>l</td>\n",
              "      <td>w</td>\n",
              "    </tr>\n",
              "    <tr>\n",
              "      <th>3</th>\n",
              "      <td>3</td>\n",
              "      <td>e</td>\n",
              "      <td>3.88</td>\n",
              "      <td>f</td>\n",
              "      <td>y</td>\n",
              "      <td>g</td>\n",
              "      <td>f</td>\n",
              "      <td>s</td>\n",
              "      <td>NaN</td>\n",
              "      <td>g</td>\n",
              "      <td>...</td>\n",
              "      <td>NaN</td>\n",
              "      <td>NaN</td>\n",
              "      <td>w</td>\n",
              "      <td>NaN</td>\n",
              "      <td>NaN</td>\n",
              "      <td>f</td>\n",
              "      <td>f</td>\n",
              "      <td>NaN</td>\n",
              "      <td>d</td>\n",
              "      <td>u</td>\n",
              "    </tr>\n",
              "    <tr>\n",
              "      <th>4</th>\n",
              "      <td>4</td>\n",
              "      <td>e</td>\n",
              "      <td>5.85</td>\n",
              "      <td>x</td>\n",
              "      <td>l</td>\n",
              "      <td>w</td>\n",
              "      <td>f</td>\n",
              "      <td>d</td>\n",
              "      <td>NaN</td>\n",
              "      <td>w</td>\n",
              "      <td>...</td>\n",
              "      <td>NaN</td>\n",
              "      <td>NaN</td>\n",
              "      <td>w</td>\n",
              "      <td>NaN</td>\n",
              "      <td>NaN</td>\n",
              "      <td>f</td>\n",
              "      <td>f</td>\n",
              "      <td>NaN</td>\n",
              "      <td>g</td>\n",
              "      <td>a</td>\n",
              "    </tr>\n",
              "  </tbody>\n",
              "</table>\n",
              "<p>5 rows × 22 columns</p>\n",
              "</div>"
            ],
            "text/plain": [
              "   id class  cap-diameter cap-shape cap-surface cap-color  \\\n",
              "0   0     e          8.80         f           s         u   \n",
              "1   1     p          4.51         x           h         o   \n",
              "2   2     e          6.94         f           s         b   \n",
              "3   3     e          3.88         f           y         g   \n",
              "4   4     e          5.85         x           l         w   \n",
              "\n",
              "  does-bruise-or-bleed gill-attachment gill-spacing gill-color  ...  \\\n",
              "0                    f               a            c          w  ...   \n",
              "1                    f               a            c          n  ...   \n",
              "2                    f               x            c          w  ...   \n",
              "3                    f               s          NaN          g  ...   \n",
              "4                    f               d          NaN          w  ...   \n",
              "\n",
              "   stem-root  stem-surface stem-color veil-type veil-color has-ring ring-type  \\\n",
              "0        NaN           NaN          w       NaN        NaN        f         f   \n",
              "1        NaN             y          o       NaN        NaN        t         z   \n",
              "2        NaN             s          n       NaN        NaN        f         f   \n",
              "3        NaN           NaN          w       NaN        NaN        f         f   \n",
              "4        NaN           NaN          w       NaN        NaN        f         f   \n",
              "\n",
              "  spore-print-color habitat season  \n",
              "0               NaN       d      a  \n",
              "1               NaN       d      w  \n",
              "2               NaN       l      w  \n",
              "3               NaN       d      u  \n",
              "4               NaN       g      a  \n",
              "\n",
              "[5 rows x 22 columns]"
            ]
          },
          "execution_count": 76,
          "metadata": {},
          "output_type": "execute_result"
        }
      ],
      "source": [
        "df_train.head()"
      ]
    },
    {
      "cell_type": "code",
      "execution_count": 77,
      "metadata": {
        "colab": {
          "base_uri": "https://localhost:8080/",
          "height": 270
        },
        "execution": {
          "iopub.execute_input": "2024-08-23T05:35:20.476986Z",
          "iopub.status.busy": "2024-08-23T05:35:20.476396Z",
          "iopub.status.idle": "2024-08-23T05:35:20.507128Z",
          "shell.execute_reply": "2024-08-23T05:35:20.505532Z",
          "shell.execute_reply.started": "2024-08-23T05:35:20.476925Z"
        },
        "id": "jV7DMRHJYfEV",
        "outputId": "8a217539-f87d-4e82-ed26-032eb8863259",
        "trusted": true
      },
      "outputs": [
        {
          "data": {
            "text/html": [
              "<div>\n",
              "<style scoped>\n",
              "    .dataframe tbody tr th:only-of-type {\n",
              "        vertical-align: middle;\n",
              "    }\n",
              "\n",
              "    .dataframe tbody tr th {\n",
              "        vertical-align: top;\n",
              "    }\n",
              "\n",
              "    .dataframe thead th {\n",
              "        text-align: right;\n",
              "    }\n",
              "</style>\n",
              "<table border=\"1\" class=\"dataframe\">\n",
              "  <thead>\n",
              "    <tr style=\"text-align: right;\">\n",
              "      <th></th>\n",
              "      <th>id</th>\n",
              "      <th>cap-diameter</th>\n",
              "      <th>cap-shape</th>\n",
              "      <th>cap-surface</th>\n",
              "      <th>cap-color</th>\n",
              "      <th>does-bruise-or-bleed</th>\n",
              "      <th>gill-attachment</th>\n",
              "      <th>gill-spacing</th>\n",
              "      <th>gill-color</th>\n",
              "      <th>stem-height</th>\n",
              "      <th>...</th>\n",
              "      <th>stem-root</th>\n",
              "      <th>stem-surface</th>\n",
              "      <th>stem-color</th>\n",
              "      <th>veil-type</th>\n",
              "      <th>veil-color</th>\n",
              "      <th>has-ring</th>\n",
              "      <th>ring-type</th>\n",
              "      <th>spore-print-color</th>\n",
              "      <th>habitat</th>\n",
              "      <th>season</th>\n",
              "    </tr>\n",
              "  </thead>\n",
              "  <tbody>\n",
              "    <tr>\n",
              "      <th>0</th>\n",
              "      <td>3116945</td>\n",
              "      <td>8.64</td>\n",
              "      <td>x</td>\n",
              "      <td>NaN</td>\n",
              "      <td>n</td>\n",
              "      <td>t</td>\n",
              "      <td>NaN</td>\n",
              "      <td>NaN</td>\n",
              "      <td>w</td>\n",
              "      <td>11.13</td>\n",
              "      <td>...</td>\n",
              "      <td>b</td>\n",
              "      <td>NaN</td>\n",
              "      <td>w</td>\n",
              "      <td>u</td>\n",
              "      <td>w</td>\n",
              "      <td>t</td>\n",
              "      <td>g</td>\n",
              "      <td>NaN</td>\n",
              "      <td>d</td>\n",
              "      <td>a</td>\n",
              "    </tr>\n",
              "    <tr>\n",
              "      <th>1</th>\n",
              "      <td>3116946</td>\n",
              "      <td>6.90</td>\n",
              "      <td>o</td>\n",
              "      <td>t</td>\n",
              "      <td>o</td>\n",
              "      <td>f</td>\n",
              "      <td>NaN</td>\n",
              "      <td>c</td>\n",
              "      <td>y</td>\n",
              "      <td>1.27</td>\n",
              "      <td>...</td>\n",
              "      <td>NaN</td>\n",
              "      <td>NaN</td>\n",
              "      <td>n</td>\n",
              "      <td>NaN</td>\n",
              "      <td>NaN</td>\n",
              "      <td>f</td>\n",
              "      <td>f</td>\n",
              "      <td>NaN</td>\n",
              "      <td>d</td>\n",
              "      <td>a</td>\n",
              "    </tr>\n",
              "    <tr>\n",
              "      <th>2</th>\n",
              "      <td>3116947</td>\n",
              "      <td>2.00</td>\n",
              "      <td>b</td>\n",
              "      <td>g</td>\n",
              "      <td>n</td>\n",
              "      <td>f</td>\n",
              "      <td>NaN</td>\n",
              "      <td>c</td>\n",
              "      <td>n</td>\n",
              "      <td>6.18</td>\n",
              "      <td>...</td>\n",
              "      <td>NaN</td>\n",
              "      <td>NaN</td>\n",
              "      <td>n</td>\n",
              "      <td>NaN</td>\n",
              "      <td>NaN</td>\n",
              "      <td>f</td>\n",
              "      <td>f</td>\n",
              "      <td>NaN</td>\n",
              "      <td>d</td>\n",
              "      <td>s</td>\n",
              "    </tr>\n",
              "    <tr>\n",
              "      <th>3</th>\n",
              "      <td>3116948</td>\n",
              "      <td>3.47</td>\n",
              "      <td>x</td>\n",
              "      <td>t</td>\n",
              "      <td>n</td>\n",
              "      <td>f</td>\n",
              "      <td>s</td>\n",
              "      <td>c</td>\n",
              "      <td>n</td>\n",
              "      <td>4.98</td>\n",
              "      <td>...</td>\n",
              "      <td>NaN</td>\n",
              "      <td>NaN</td>\n",
              "      <td>w</td>\n",
              "      <td>NaN</td>\n",
              "      <td>n</td>\n",
              "      <td>t</td>\n",
              "      <td>z</td>\n",
              "      <td>NaN</td>\n",
              "      <td>d</td>\n",
              "      <td>u</td>\n",
              "    </tr>\n",
              "    <tr>\n",
              "      <th>4</th>\n",
              "      <td>3116949</td>\n",
              "      <td>6.17</td>\n",
              "      <td>x</td>\n",
              "      <td>h</td>\n",
              "      <td>y</td>\n",
              "      <td>f</td>\n",
              "      <td>p</td>\n",
              "      <td>NaN</td>\n",
              "      <td>y</td>\n",
              "      <td>6.73</td>\n",
              "      <td>...</td>\n",
              "      <td>NaN</td>\n",
              "      <td>NaN</td>\n",
              "      <td>y</td>\n",
              "      <td>NaN</td>\n",
              "      <td>y</td>\n",
              "      <td>t</td>\n",
              "      <td>NaN</td>\n",
              "      <td>NaN</td>\n",
              "      <td>d</td>\n",
              "      <td>u</td>\n",
              "    </tr>\n",
              "  </tbody>\n",
              "</table>\n",
              "<p>5 rows × 21 columns</p>\n",
              "</div>"
            ],
            "text/plain": [
              "        id  cap-diameter cap-shape cap-surface cap-color does-bruise-or-bleed  \\\n",
              "0  3116945          8.64         x         NaN         n                    t   \n",
              "1  3116946          6.90         o           t         o                    f   \n",
              "2  3116947          2.00         b           g         n                    f   \n",
              "3  3116948          3.47         x           t         n                    f   \n",
              "4  3116949          6.17         x           h         y                    f   \n",
              "\n",
              "  gill-attachment gill-spacing gill-color  stem-height  ...  stem-root  \\\n",
              "0             NaN          NaN          w        11.13  ...          b   \n",
              "1             NaN            c          y         1.27  ...        NaN   \n",
              "2             NaN            c          n         6.18  ...        NaN   \n",
              "3               s            c          n         4.98  ...        NaN   \n",
              "4               p          NaN          y         6.73  ...        NaN   \n",
              "\n",
              "  stem-surface stem-color veil-type veil-color has-ring ring-type  \\\n",
              "0          NaN          w         u          w        t         g   \n",
              "1          NaN          n       NaN        NaN        f         f   \n",
              "2          NaN          n       NaN        NaN        f         f   \n",
              "3          NaN          w       NaN          n        t         z   \n",
              "4          NaN          y       NaN          y        t       NaN   \n",
              "\n",
              "  spore-print-color habitat season  \n",
              "0               NaN       d      a  \n",
              "1               NaN       d      a  \n",
              "2               NaN       d      s  \n",
              "3               NaN       d      u  \n",
              "4               NaN       d      u  \n",
              "\n",
              "[5 rows x 21 columns]"
            ]
          },
          "execution_count": 77,
          "metadata": {},
          "output_type": "execute_result"
        }
      ],
      "source": [
        "df_test.head()"
      ]
    },
    {
      "cell_type": "code",
      "execution_count": 78,
      "metadata": {
        "colab": {
          "base_uri": "https://localhost:8080/"
        },
        "execution": {
          "iopub.execute_input": "2024-08-23T05:35:20.509419Z",
          "iopub.status.busy": "2024-08-23T05:35:20.508826Z",
          "iopub.status.idle": "2024-08-23T05:35:20.521396Z",
          "shell.execute_reply": "2024-08-23T05:35:20.519739Z",
          "shell.execute_reply.started": "2024-08-23T05:35:20.509369Z"
        },
        "id": "133bmrCTYfEV",
        "outputId": "3455c6b4-5770-439f-ecda-d0f761f74d13",
        "trusted": true
      },
      "outputs": [
        {
          "data": {
            "text/plain": [
              "((2077964, 21), (3116945, 22))"
            ]
          },
          "execution_count": 78,
          "metadata": {},
          "output_type": "execute_result"
        }
      ],
      "source": [
        "df_test.shape,df_train.shape"
      ]
    },
    {
      "cell_type": "markdown",
      "metadata": {
        "id": "lTcKNdzKYfEV"
      },
      "source": [
        "\n"
      ]
    },
    {
      "cell_type": "code",
      "execution_count": 79,
      "metadata": {
        "execution": {
          "iopub.execute_input": "2024-08-23T05:35:20.523724Z",
          "iopub.status.busy": "2024-08-23T05:35:20.523152Z",
          "iopub.status.idle": "2024-08-23T05:35:21.631305Z",
          "shell.execute_reply": "2024-08-23T05:35:21.629884Z",
          "shell.execute_reply.started": "2024-08-23T05:35:20.523667Z"
        },
        "id": "8RHnSF9DYfEV",
        "trusted": true
      },
      "outputs": [],
      "source": [
        "df_train = df_train.drop(columns=['id'])\n",
        "df_test = df_test.drop(columns=['id'])"
      ]
    },
    {
      "cell_type": "markdown",
      "metadata": {
        "id": "mk7p0_IgYfEV"
      },
      "source": [
        "<div style=\"border-radius:10px; border:#DEB887 solid; padding: 15px; background-color: white; font-size:100%; text-align:left\">\n",
        "\n",
        "<h3 align=\"center\"><font color='#DAA520'>Data Talks :</font></h3>\n",
        "    \n",
        "**Intial Drop** : Drop Column ID....🎃\n",
        "    \n",
        "**Train & Test Distribution** : Looks Heavy no of rows 🎆    \n",
        "    \n",
        "**About Feature Columns** : We have 21 and 22 columns in which we can see, lots of features have missing value 🎭"
      ]
    },
    {
      "cell_type": "markdown",
      "metadata": {
        "id": "gieE3-0lYfEV"
      },
      "source": [
        "<p style=\"font-family: 'Amiri', serif; font-size: 3rem; color: black; text-align: center; margin: 0; text-shadow: 2px 2px 4px rgba(0, 0, 0, 0.3); background-color: grey; padding: 10px; border-radius: 10px; border: 7px solid cyan; width: 95%;\">\n",
        "  <span style=\"font-weight: bold; color: blue; animation: pulse 2s infinite;\">📉Checking  </span>\n",
        "  <span style=\"font-style: italic; color: #2ca02c; animation: pulse 2s infinite;\"> Distribution of categorical features  📊</span>\n",
        "</p>"
      ]
    },
    {
      "cell_type": "code",
      "execution_count": 80,
      "metadata": {
        "colab": {
          "base_uri": "https://localhost:8080/"
        },
        "execution": {
          "iopub.execute_input": "2024-08-23T05:35:21.633085Z",
          "iopub.status.busy": "2024-08-23T05:35:21.632677Z",
          "iopub.status.idle": "2024-08-23T05:35:21.658388Z",
          "shell.execute_reply": "2024-08-23T05:35:21.656992Z",
          "shell.execute_reply.started": "2024-08-23T05:35:21.633044Z"
        },
        "id": "-jjrkZ0EYfEV",
        "outputId": "d3defff2-2ff8-4019-f940-963e2da3b2b7",
        "trusted": true
      },
      "outputs": [
        {
          "name": "stdout",
          "output_type": "stream",
          "text": [
            "<class 'pandas.core.frame.DataFrame'>\n",
            "RangeIndex: 3116945 entries, 0 to 3116944\n",
            "Data columns (total 21 columns):\n",
            " #   Column                Dtype  \n",
            "---  ------                -----  \n",
            " 0   class                 object \n",
            " 1   cap-diameter          float64\n",
            " 2   cap-shape             object \n",
            " 3   cap-surface           object \n",
            " 4   cap-color             object \n",
            " 5   does-bruise-or-bleed  object \n",
            " 6   gill-attachment       object \n",
            " 7   gill-spacing          object \n",
            " 8   gill-color            object \n",
            " 9   stem-height           float64\n",
            " 10  stem-width            float64\n",
            " 11  stem-root             object \n",
            " 12  stem-surface          object \n",
            " 13  stem-color            object \n",
            " 14  veil-type             object \n",
            " 15  veil-color            object \n",
            " 16  has-ring              object \n",
            " 17  ring-type             object \n",
            " 18  spore-print-color     object \n",
            " 19  habitat               object \n",
            " 20  season                object \n",
            "dtypes: float64(3), object(18)\n",
            "memory usage: 499.4+ MB\n"
          ]
        }
      ],
      "source": [
        "df_train.info()"
      ]
    },
    {
      "cell_type": "code",
      "execution_count": 81,
      "metadata": {
        "colab": {
          "base_uri": "https://localhost:8080/"
        },
        "execution": {
          "iopub.execute_input": "2024-08-23T05:35:21.660688Z",
          "iopub.status.busy": "2024-08-23T05:35:21.66025Z",
          "iopub.status.idle": "2024-08-23T05:35:25.547142Z",
          "shell.execute_reply": "2024-08-23T05:35:25.545814Z",
          "shell.execute_reply.started": "2024-08-23T05:35:21.660611Z"
        },
        "id": "-YQCqNJmYfEV",
        "outputId": "482d905a-623a-4183-84a0-e2cb65ef118c",
        "trusted": true
      },
      "outputs": [
        {
          "name": "stdout",
          "output_type": "stream",
          "text": [
            "class: 2 unique values\n",
            "cap-shape: 74 unique values\n",
            "cap-surface: 83 unique values\n",
            "cap-color: 78 unique values\n",
            "does-bruise-or-bleed: 26 unique values\n",
            "gill-attachment: 78 unique values\n",
            "gill-spacing: 48 unique values\n",
            "gill-color: 63 unique values\n",
            "stem-root: 38 unique values\n",
            "stem-surface: 60 unique values\n",
            "stem-color: 59 unique values\n",
            "veil-type: 22 unique values\n",
            "veil-color: 24 unique values\n",
            "has-ring: 23 unique values\n",
            "ring-type: 40 unique values\n",
            "spore-print-color: 32 unique values\n",
            "habitat: 52 unique values\n",
            "season: 4 unique values\n"
          ]
        },
        {
          "data": {
            "text/plain": [
              "1238"
            ]
          },
          "execution_count": 81,
          "metadata": {},
          "output_type": "execute_result"
        }
      ],
      "source": [
        "categorical_columns = df_train.select_dtypes(include=['object']).columns\n",
        "unique_values = {col: df_train[col].nunique() for col in categorical_columns}\n",
        "for col, unique_count in unique_values.items():\n",
        "    print(f\"{col}: {unique_count} unique values\")\n",
        "\n",
        "gc.collect()"
      ]
    },
    {
      "cell_type": "code",
      "execution_count": 82,
      "metadata": {
        "colab": {
          "base_uri": "https://localhost:8080/"
        },
        "execution": {
          "iopub.execute_input": "2024-08-23T05:35:25.54954Z",
          "iopub.status.busy": "2024-08-23T05:35:25.548995Z",
          "iopub.status.idle": "2024-08-23T05:35:27.97202Z",
          "shell.execute_reply": "2024-08-23T05:35:27.970603Z",
          "shell.execute_reply.started": "2024-08-23T05:35:25.549483Z"
        },
        "id": "VWavu4jWYfEW",
        "outputId": "25dc8c4d-df63-47ed-aaa4-cfac47b67a0e",
        "trusted": true
      },
      "outputs": [
        {
          "name": "stdout",
          "output_type": "stream",
          "text": [
            "cap-shape: 62 unique values\n",
            "cap-surface: 59 unique values\n",
            "cap-color: 57 unique values\n",
            "does-bruise-or-bleed: 22 unique values\n",
            "gill-attachment: 66 unique values\n",
            "gill-spacing: 35 unique values\n",
            "gill-color: 56 unique values\n",
            "stem-root: 31 unique values\n",
            "stem-surface: 54 unique values\n",
            "stem-color: 55 unique values\n",
            "veil-type: 15 unique values\n",
            "veil-color: 23 unique values\n",
            "has-ring: 23 unique values\n",
            "ring-type: 36 unique values\n",
            "spore-print-color: 33 unique values\n",
            "habitat: 39 unique values\n",
            "season: 4 unique values\n"
          ]
        },
        {
          "data": {
            "text/plain": [
              "0"
            ]
          },
          "execution_count": 82,
          "metadata": {},
          "output_type": "execute_result"
        }
      ],
      "source": [
        "categorical_columns = df_test.select_dtypes(include=['object']).columns\n",
        "unique_values = {col: df_test[col].nunique() for col in categorical_columns}\n",
        "for col, unique_count in unique_values.items():\n",
        "    print(f\"{col}: {unique_count} unique values\")\n",
        "\n",
        "gc.collect()"
      ]
    },
    {
      "cell_type": "code",
      "execution_count": 83,
      "metadata": {
        "colab": {
          "base_uri": "https://localhost:8080/"
        },
        "execution": {
          "iopub.execute_input": "2024-08-23T05:35:27.977952Z",
          "iopub.status.busy": "2024-08-23T05:35:27.977478Z",
          "iopub.status.idle": "2024-08-23T05:35:27.990418Z",
          "shell.execute_reply": "2024-08-23T05:35:27.988277Z",
          "shell.execute_reply.started": "2024-08-23T05:35:27.977892Z"
        },
        "id": "jEwvVW6sYfEW",
        "outputId": "7c5777c2-4dac-468f-9926-fed356df7fe9",
        "trusted": true
      },
      "outputs": [
        {
          "data": {
            "text/plain": [
              "Index(['cap-diameter', 'cap-shape', 'cap-surface', 'cap-color',\n",
              "       'does-bruise-or-bleed', 'gill-attachment', 'gill-spacing', 'gill-color',\n",
              "       'stem-height', 'stem-width', 'stem-root', 'stem-surface', 'stem-color',\n",
              "       'veil-type', 'veil-color', 'has-ring', 'ring-type', 'spore-print-color',\n",
              "       'habitat', 'season'],\n",
              "      dtype='object')"
            ]
          },
          "execution_count": 83,
          "metadata": {},
          "output_type": "execute_result"
        }
      ],
      "source": [
        "df_test.columns"
      ]
    },
    {
      "cell_type": "code",
      "execution_count": 84,
      "metadata": {
        "colab": {
          "base_uri": "https://localhost:8080/"
        },
        "execution": {
          "iopub.execute_input": "2024-08-23T05:35:27.992511Z",
          "iopub.status.busy": "2024-08-23T05:35:27.992001Z",
          "iopub.status.idle": "2024-08-23T05:35:28.004591Z",
          "shell.execute_reply": "2024-08-23T05:35:28.003266Z",
          "shell.execute_reply.started": "2024-08-23T05:35:27.992457Z"
        },
        "id": "szLwVAhFYfEW",
        "outputId": "27dff4f5-fb1e-48a7-8871-b29fbce1b9b6",
        "trusted": true
      },
      "outputs": [
        {
          "data": {
            "text/plain": [
              "Index(['class', 'cap-diameter', 'cap-shape', 'cap-surface', 'cap-color',\n",
              "       'does-bruise-or-bleed', 'gill-attachment', 'gill-spacing', 'gill-color',\n",
              "       'stem-height', 'stem-width', 'stem-root', 'stem-surface', 'stem-color',\n",
              "       'veil-type', 'veil-color', 'has-ring', 'ring-type', 'spore-print-color',\n",
              "       'habitat', 'season'],\n",
              "      dtype='object')"
            ]
          },
          "execution_count": 84,
          "metadata": {},
          "output_type": "execute_result"
        }
      ],
      "source": [
        "df_train.columns"
      ]
    },
    {
      "cell_type": "markdown",
      "metadata": {
        "id": "FAaCIWXXYfEW"
      },
      "source": [
        "<p style=\"font-family: 'Amiri', serif; font-size: 3rem; color: black; text-align: center; margin: 0; text-shadow: 2px 2px 4px rgba(0, 0, 0, 0.3); background-color: black; padding: 20px; border-radius: 20px; border: 7px solid cyan; width: 95%;\">\n",
        "  <span style=\"font-weight: bold; color: blue; animation: pulse 2s infinite;\">📉Exploratory</span>\n",
        "  <span style=\"font-style: italic; color: #2ca02c; animation: pulse 2s infinite;\"> Data Analysis(EDA)  📊</span>\n",
        "</p>"
      ]
    },
    {
      "cell_type": "code",
      "execution_count": 85,
      "metadata": {
        "execution": {
          "iopub.execute_input": "2024-08-23T05:35:28.007115Z",
          "iopub.status.busy": "2024-08-23T05:35:28.006597Z",
          "iopub.status.idle": "2024-08-23T05:35:28.435938Z",
          "shell.execute_reply": "2024-08-23T05:35:28.434676Z",
          "shell.execute_reply.started": "2024-08-23T05:35:28.007068Z"
        },
        "id": "7KIm7IyYYfEW",
        "trusted": true
      },
      "outputs": [],
      "source": [
        "import seaborn as sns"
      ]
    },
    {
      "cell_type": "code",
      "execution_count": 86,
      "metadata": {
        "colab": {
          "base_uri": "https://localhost:8080/"
        },
        "execution": {
          "iopub.execute_input": "2024-08-23T05:35:28.43781Z",
          "iopub.status.busy": "2024-08-23T05:35:28.437179Z",
          "iopub.status.idle": "2024-08-23T05:35:36.685727Z",
          "shell.execute_reply": "2024-08-23T05:35:36.683707Z",
          "shell.execute_reply.started": "2024-08-23T05:35:28.437763Z"
        },
        "id": "O5eyJ1LsYfEW",
        "outputId": "ebf7f76b-596d-4dd3-c0e5-f635f6301dc3",
        "trusted": true
      },
      "outputs": [
        {
          "name": "stdout",
          "output_type": "stream",
          "text": [
            "Columns in df_train with more than 10% missing values:\n",
            "cap-diameter             0.000128\n",
            "cap-shape                0.001283\n",
            "cap-surface             21.528227\n",
            "cap-color                0.000385\n",
            "does-bruise-or-bleed     0.000257\n",
            "gill-attachment         16.809280\n",
            "gill-spacing            40.373988\n",
            "gill-color               0.001829\n",
            "stem-root               88.452732\n",
            "stem-surface            63.551362\n",
            "stem-color               0.001219\n",
            "veil-type               94.884350\n",
            "veil-color              87.936970\n",
            "has-ring                 0.000770\n",
            "ring-type                4.134818\n",
            "spore-print-color       91.425482\n",
            "habitat                  0.001444\n",
            "dtype: float64\n",
            "\n",
            "Columns in df_test with more than 10% missing values:\n",
            "cap-diameter             0.000337\n",
            "cap-shape                0.001492\n",
            "cap-surface             21.506821\n",
            "cap-color                0.000626\n",
            "does-bruise-or-bleed     0.000481\n",
            "gill-attachment         16.834796\n",
            "gill-spacing            40.404694\n",
            "gill-color               0.002358\n",
            "stem-height              0.000048\n",
            "stem-root               88.452543\n",
            "stem-surface            63.595327\n",
            "stem-color               0.001011\n",
            "veil-type               94.878689\n",
            "veil-color              87.880445\n",
            "has-ring                 0.000914\n",
            "ring-type                4.148051\n",
            "spore-print-color       91.417224\n",
            "habitat                  0.001203\n",
            "dtype: float64\n"
          ]
        }
      ],
      "source": [
        "missing_train = df_train.isna().mean() * 100\n",
        "missing_test = df_test.isna().mean() * 100\n",
        "\n",
        "print(\"Columns in df_train with more than 10% missing values:\")\n",
        "print(missing_train[missing_train > 0])\n",
        "\n",
        "print(\"\\nColumns in df_test with more than 10% missing values:\")\n",
        "print(missing_test[missing_test > 0])"
      ]
    },
    {
      "cell_type": "markdown",
      "metadata": {
        "id": "HUcutU_dYfEW"
      },
      "source": [
        "<div style=\"border-radius:10px; border:#DEB887 solid; padding: 15px; background-color: white; font-size:100%; text-align:left\">\n",
        "\n",
        "<h3 align=\"center\"><font color='#DAA520'>Data Talks :</font></h3>\n",
        "    \n",
        "**Common Columns:** Both df_train and df_test share the same columns with more than 10% missing values.\n",
        "    \n",
        "**High Missing Values:** The columns stem-root, veil-type, veil-color, and spore-print-color have a very high percentage of missing values, exceeding 80% in both datasets..🎃\n",
        "    \n",
        "**Moderate Missing Values:** The columns cap-surface, gill-attachment, gill-spacing, and stem-surface have moderate missing values, ranging from approximately 16% to 63%. 🎭"
      ]
    },
    {
      "cell_type": "code",
      "execution_count": 87,
      "metadata": {
        "colab": {
          "base_uri": "https://localhost:8080/",
          "height": 784
        },
        "execution": {
          "iopub.execute_input": "2024-08-23T05:35:36.687769Z",
          "iopub.status.busy": "2024-08-23T05:35:36.687321Z",
          "iopub.status.idle": "2024-08-23T05:35:42.246319Z",
          "shell.execute_reply": "2024-08-23T05:35:42.244639Z",
          "shell.execute_reply.started": "2024-08-23T05:35:36.687725Z"
        },
        "id": "thuAUNa0YfEW",
        "outputId": "643641a6-1768-48e5-afd3-a1611888d8c7",
        "trusted": true
      },
      "outputs": [
        {
          "name": "stderr",
          "output_type": "stream",
          "text": [
            "C:\\Users\\andre\\AppData\\Local\\Temp\\ipykernel_19824\\3726948150.py:6: FutureWarning:\n",
            "\n",
            "\n",
            "\n",
            "Passing `palette` without assigning `hue` is deprecated and will be removed in v0.14.0. Assign the `x` variable to `hue` and set `legend=False` for the same effect.\n",
            "\n",
            "\n"
          ]
        },
        {
          "data": {
            "image/png": "[encoded data removed]",
            "text/plain": [
              "<Figure size 1000x600 with 1 Axes>"
            ]
          },
          "metadata": {},
          "output_type": "display_data"
        }
      ],
      "source": [
        "missing_values = df_train.isnull().mean() * 100\n",
        "missing_values = missing_values[missing_values >0]\n",
        "missing_values = missing_values.sort_values(ascending=False)\n",
        "\n",
        "plt.figure(figsize=(10, 6))\n",
        "sns.barplot(x=missing_values.index, y=missing_values.values, palette='viridis')\n",
        "plt.xticks(rotation=90)\n",
        "plt.xlabel('Features')\n",
        "plt.ylabel('Percentage of Missing Values')\n",
        "plt.title('Missing Values Distribution in df_train')\n",
        "plt.show()"
      ]
    },
    {
      "cell_type": "code",
      "execution_count": 88,
      "metadata": {
        "_kg_hide-output": true,
        "execution": {
          "iopub.execute_input": "2024-08-23T05:36:00.378646Z",
          "iopub.status.busy": "2024-08-23T05:36:00.378179Z",
          "iopub.status.idle": "2024-08-23T05:36:26.776367Z",
          "shell.execute_reply": "2024-08-23T05:36:26.77509Z",
          "shell.execute_reply.started": "2024-08-23T05:36:00.378579Z"
        },
        "id": "Age1kmMeYfEW",
        "trusted": true
      },
      "outputs": [
        {
          "name": "stderr",
          "output_type": "stream",
          "text": [
            "C:\\Users\\andre\\AppData\\Local\\Temp\\ipykernel_19824\\3800662110.py:21: FutureWarning:\n",
            "\n",
            "A value is trying to be set on a copy of a DataFrame or Series through chained assignment using an inplace method.\n",
            "The behavior will change in pandas 3.0. This inplace method will never work because the intermediate object on which we are setting values always behaves as a copy.\n",
            "\n",
            "For example, when doing 'df[col].method(value, inplace=True)', try using 'df.method({col: value}, inplace=True)' or df[col] = df[col].method(value) instead, to perform the operation inplace on the original object.\n",
            "\n",
            "\n",
            "\n",
            "C:\\Users\\andre\\AppData\\Local\\Temp\\ipykernel_19824\\3800662110.py:22: FutureWarning:\n",
            "\n",
            "A value is trying to be set on a copy of a DataFrame or Series through chained assignment using an inplace method.\n",
            "The behavior will change in pandas 3.0. This inplace method will never work because the intermediate object on which we are setting values always behaves as a copy.\n",
            "\n",
            "For example, when doing 'df[col].method(value, inplace=True)', try using 'df.method({col: value}, inplace=True)' or df[col] = df[col].method(value) instead, to perform the operation inplace on the original object.\n",
            "\n",
            "\n",
            "\n",
            "C:\\Users\\andre\\AppData\\Local\\Temp\\ipykernel_19824\\3800662110.py:17: FutureWarning:\n",
            "\n",
            "A value is trying to be set on a copy of a DataFrame or Series through chained assignment using an inplace method.\n",
            "The behavior will change in pandas 3.0. This inplace method will never work because the intermediate object on which we are setting values always behaves as a copy.\n",
            "\n",
            "For example, when doing 'df[col].method(value, inplace=True)', try using 'df.method({col: value}, inplace=True)' or df[col] = df[col].method(value) instead, to perform the operation inplace on the original object.\n",
            "\n",
            "\n",
            "\n",
            "C:\\Users\\andre\\AppData\\Local\\Temp\\ipykernel_19824\\3800662110.py:18: FutureWarning:\n",
            "\n",
            "A value is trying to be set on a copy of a DataFrame or Series through chained assignment using an inplace method.\n",
            "The behavior will change in pandas 3.0. This inplace method will never work because the intermediate object on which we are setting values always behaves as a copy.\n",
            "\n",
            "For example, when doing 'df[col].method(value, inplace=True)', try using 'df.method({col: value}, inplace=True)' or df[col] = df[col].method(value) instead, to perform the operation inplace on the original object.\n",
            "\n",
            "\n",
            "\n"
          ]
        }
      ],
      "source": [
        "from sklearn.model_selection import train_test_split\n",
        "from sklearn.preprocessing import LabelEncoder,OrdinalEncoder\n",
        "import category_encoders as ce\n",
        "\n",
        "missing_threshold = 0.95\n",
        "\n",
        "high_missing_columns = df_train.columns[df_train.isnull().mean() > missing_threshold]\n",
        "\n",
        "df_train = df_train.drop(columns=high_missing_columns)\n",
        "df_test = df_test.drop(columns=high_missing_columns)\n",
        "target = 'class'\n",
        "\n",
        "for column in df_train.columns:\n",
        "    if df_train[column].isnull().any():\n",
        "        if df_train[column].dtype == 'object':\n",
        "            mode_value = df_train[column].mode()[0]\n",
        "            df_train[column].fillna(mode_value, inplace=True)\n",
        "            df_test[column].fillna(mode_value, inplace=True)\n",
        "        else:\n",
        "            median_value = df_train[column].median()\n",
        "            df_train[column].fillna(median_value, inplace=True)\n",
        "            df_test[column].fillna(median_value, inplace=True)"
      ]
    },
    {
      "cell_type": "code",
      "execution_count": 89,
      "metadata": {
        "colab": {
          "base_uri": "https://localhost:8080/",
          "height": 1000
        },
        "execution": {
          "iopub.execute_input": "2024-08-23T05:36:26.778954Z",
          "iopub.status.busy": "2024-08-23T05:36:26.777912Z",
          "iopub.status.idle": "2024-08-23T05:36:37.791832Z",
          "shell.execute_reply": "2024-08-23T05:36:37.790712Z",
          "shell.execute_reply.started": "2024-08-23T05:36:26.778899Z"
        },
        "id": "_R35fl2gYfEW",
        "outputId": "cf883583-2c01-4ee2-ea0d-6177aa27374f",
        "trusted": true
      },
      "outputs": [
        {
          "data": {
            "image/png": "[encoded data removed]",
            "text/plain": [
              "<Figure size 2000x800 with 2 Axes>"
            ]
          },
          "metadata": {},
          "output_type": "display_data"
        }
      ],
      "source": [
        "from dython.nominal import associations\n",
        "\n",
        "associations_df = associations(df_train[:10000], nominal_columns='all', plot=False)\n",
        "corr_matrix = associations_df['corr']\n",
        "plt.figure(figsize=(20, 8))\n",
        "plt.gcf().set_facecolor('#FFFDD0')\n",
        "sns.heatmap(corr_matrix, annot=True, fmt='.2f', cmap='coolwarm', linewidths=0.5)\n",
        "plt.title('Correlation Matrix including Categorical Features')\n",
        "plt.show()"
      ]
    },
    {
      "cell_type": "code",
      "execution_count": 90,
      "metadata": {
        "colab": {
          "base_uri": "https://localhost:8080/",
          "height": 617
        },
        "execution": {
          "iopub.execute_input": "2024-08-23T05:36:37.794016Z",
          "iopub.status.busy": "2024-08-23T05:36:37.793555Z",
          "iopub.status.idle": "2024-08-23T05:36:41.095234Z",
          "shell.execute_reply": "2024-08-23T05:36:41.093091Z",
          "shell.execute_reply.started": "2024-08-23T05:36:37.793973Z"
        },
        "id": "LZ-0O1VMYfEX",
        "outputId": "d747cef1-d27a-44ba-d3a6-fa16d13da2a9",
        "trusted": true
      },
      "outputs": [],
      "source": [
        "import plotly.io as pio\n",
        "\n",
        "pio.renderers.default = \"browser\"\n",
        "\n",
        "fig = px.sunburst(feature_counts, path=['cap-shape', 'cap-color'], values='count',\n",
        "                  color='count', color_continuous_scale='Viridis',\n",
        "                  title='Sunburst Chart of Cap Shape and Cap Color Distribution')\n",
        "\n",
        "fig.update_layout(title_text='Sunburst Chart of Cap Shape and Cap Color Distribution',\n",
        "                  title_x=0.5, width=900, height=600)\n",
        "fig.show()\n"
      ]
    },
    {
      "cell_type": "code",
      "execution_count": 91,
      "metadata": {
        "colab": {
          "base_uri": "https://localhost:8080/",
          "height": 617
        },
        "execution": {
          "iopub.execute_input": "2024-08-23T05:36:41.098015Z",
          "iopub.status.busy": "2024-08-23T05:36:41.097273Z",
          "iopub.status.idle": "2024-08-23T05:36:41.210811Z",
          "shell.execute_reply": "2024-08-23T05:36:41.209397Z",
          "shell.execute_reply.started": "2024-08-23T05:36:41.09795Z"
        },
        "id": "ZdGMnOQ-YfEX",
        "outputId": "ce33e07b-cf27-46db-9c6f-5f23063a2a50",
        "trusted": true
      },
      "outputs": [],
      "source": [
        "import plotly.graph_objects as go\n",
        "\n",
        "flow_data = df_train1.groupby(['cap-shape', 'cap-color']).size().reset_index(name='count')\n",
        "labels = list(pd.concat([flow_data['cap-shape'], flow_data['cap-color']]).unique())\n",
        "label_map = {label: idx for idx, label in enumerate(labels)}\n",
        "\n",
        "sources = flow_data['cap-shape'].map(label_map).tolist()\n",
        "targets = flow_data['cap-color'].map(label_map).tolist()\n",
        "values = flow_data['count'].tolist()\n",
        "\n",
        "\n",
        "fig = go.Figure(data=[go.Sankey(\n",
        "    node=dict(\n",
        "        pad=15,\n",
        "        thickness=20,\n",
        "        line=dict(color='black', width=0.5),\n",
        "        label=labels\n",
        "    ),\n",
        "    link=dict(\n",
        "        source=sources,\n",
        "        target=targets,\n",
        "        value=values\n",
        "    )\n",
        ")])\n",
        "\n",
        "fig.update_layout(\n",
        "    title_text='Sankey Chart of Cap Shape to Cap Color Flow',\n",
        "    title_x=0.5,\n",
        "    width=1000,\n",
        "    height=600\n",
        ")\n",
        "fig.show()"
      ]
    },
    {
      "cell_type": "code",
      "execution_count": 92,
      "metadata": {
        "colab": {
          "base_uri": "https://localhost:8080/",
          "height": 542
        },
        "execution": {
          "iopub.execute_input": "2024-08-23T05:36:41.214703Z",
          "iopub.status.busy": "2024-08-23T05:36:41.214233Z",
          "iopub.status.idle": "2024-08-23T05:36:41.457258Z",
          "shell.execute_reply": "2024-08-23T05:36:41.455125Z",
          "shell.execute_reply.started": "2024-08-23T05:36:41.214646Z"
        },
        "id": "01Dxp4xaYfEX",
        "outputId": "592adc13-b481-42b8-c53d-b2187fe96969",
        "trusted": true
      },
      "outputs": [],
      "source": [
        "feature_counts = df_train1.groupby(['cap-shape', 'cap-color']).size().reset_index(name='count')\n",
        "fig = px.bar(feature_counts, x='cap-shape', y='count', color='cap-color',\n",
        "             title='Crosstab Chart of Cap Shape and Cap Color',\n",
        "             labels={'cap-shape': 'Cap Shape', 'count': 'Count', 'cap-color': 'Cap Color'},\n",
        "             color_discrete_sequence=px.colors.qualitative.Plotly,\n",
        "             text='count')\n",
        "fig.update_layout(\n",
        "    title_text='Crosstab Chart of Cap Shape and Cap Color',\n",
        "    title_x=0.5,\n",
        "    xaxis_title='Cap Shape',\n",
        "    yaxis_title='Count',\n",
        "    barmode='stack'\n",
        ")\n",
        "\n",
        "fig.show()"
      ]
    },
    {
      "cell_type": "code",
      "execution_count": 93,
      "metadata": {
        "colab": {
          "base_uri": "https://localhost:8080/"
        },
        "execution": {
          "iopub.execute_input": "2024-08-23T05:36:41.459978Z",
          "iopub.status.busy": "2024-08-23T05:36:41.459491Z",
          "iopub.status.idle": "2024-08-23T05:36:43.510203Z",
          "shell.execute_reply": "2024-08-23T05:36:43.509031Z",
          "shell.execute_reply.started": "2024-08-23T05:36:41.459925Z"
        },
        "id": "BPH3QLCEYfEX",
        "outputId": "152ef9be-2187-4b57-87d4-527b57b8d249",
        "trusted": true
      },
      "outputs": [
        {
          "data": {
            "text/plain": [
              "2338"
            ]
          },
          "execution_count": 93,
          "metadata": {},
          "output_type": "execute_result"
        }
      ],
      "source": [
        "cols_to_drop_train = missing_train[missing_train > 95].index\n",
        "cols_to_drop_test = missing_test[missing_test > 95].index\n",
        "\n",
        "df_train = df_train.drop(columns=cols_to_drop_train)\n",
        "df_test = df_test.drop(columns=cols_to_drop_test)\n",
        "gc.collect()"
      ]
    },
    {
      "cell_type": "markdown",
      "metadata": {
        "id": "_4YsmuzfYfEX"
      },
      "source": [
        "![encoders.png](encoders.png)"
      ]
    },
    {
      "cell_type": "code",
      "execution_count": 94,
      "metadata": {
        "execution": {
          "iopub.execute_input": "2024-08-23T05:36:43.512111Z",
          "iopub.status.busy": "2024-08-23T05:36:43.511656Z",
          "iopub.status.idle": "2024-08-23T05:36:43.52638Z",
          "shell.execute_reply": "2024-08-23T05:36:43.525192Z",
          "shell.execute_reply.started": "2024-08-23T05:36:43.51207Z"
        },
        "id": "JfmzRPxAYfEX",
        "trusted": true
      },
      "outputs": [],
      "source": [
        "from sklearn.impute import KNNImputer\n",
        "import pandas as pd\n",
        "\n",
        "def knn_impute(df, n_neighbors=5):\n",
        "    df_encoded = df.copy()\n",
        "    for col in df_encoded.select_dtypes(include='object').columns:\n",
        "        df_encoded[col] = df_encoded[col].astype('category').cat.codes\n",
        "    knn_imputer = KNNImputer(n_neighbors=n_neighbors)\n",
        "    df_imputed = pd.DataFrame(knn_imputer.fit_transform(df_encoded), columns=df_encoded.columns)\n",
        "    for col in df.select_dtypes(include='object').columns:\n",
        "        df_imputed[col] = df_imputed[col].round().astype(int).map(\n",
        "            dict(enumerate(df[col].astype('category').cat.categories)))\n",
        "    return df_imputed"
      ]
    },
    {
      "cell_type": "code",
      "execution_count": 95,
      "metadata": {
        "execution": {
          "iopub.execute_input": "2024-08-23T05:36:43.528245Z",
          "iopub.status.busy": "2024-08-23T05:36:43.527816Z",
          "iopub.status.idle": "2024-08-23T05:37:10.34682Z",
          "shell.execute_reply": "2024-08-23T05:37:10.345468Z",
          "shell.execute_reply.started": "2024-08-23T05:36:43.528203Z"
        },
        "id": "kLjYch2nYfEX",
        "trusted": true
      },
      "outputs": [],
      "source": [
        "df_train_imputed = knn_impute(df_train, n_neighbors=5)\n",
        "df_test_imputed = knn_impute(df_test, n_neighbors=5)"
      ]
    },
    {
      "cell_type": "code",
      "execution_count": 96,
      "metadata": {
        "execution": {
          "iopub.execute_input": "2024-08-23T05:37:10.348679Z",
          "iopub.status.busy": "2024-08-23T05:37:10.348294Z",
          "iopub.status.idle": "2024-08-23T05:37:57.01567Z",
          "shell.execute_reply": "2024-08-23T05:37:57.014306Z",
          "shell.execute_reply.started": "2024-08-23T05:37:10.348639Z"
        },
        "id": "TQqAnYMgYfEX",
        "trusted": true
      },
      "outputs": [],
      "source": [
        "cat_cols_train = df_train_imputed.select_dtypes(include=['object']).columns\n",
        "cat_cols_train = cat_cols_train[cat_cols_train != 'class']\n",
        "ordinal_encoder = OrdinalEncoder(handle_unknown='use_encoded_value', unknown_value=-1)\n",
        "\n",
        "df_train_imputed[cat_cols_train] = ordinal_encoder.fit_transform(df_train_imputed[cat_cols_train].astype(str))\n",
        "df_test_imputed[cat_cols_train] = ordinal_encoder.transform(df_test_imputed[cat_cols_train].astype(str))"
      ]
    },
    {
      "cell_type": "code",
      "execution_count": 97,
      "metadata": {
        "colab": {
          "base_uri": "https://localhost:8080/",
          "height": 270
        },
        "execution": {
          "iopub.execute_input": "2024-08-23T05:37:57.018528Z",
          "iopub.status.busy": "2024-08-23T05:37:57.01799Z",
          "iopub.status.idle": "2024-08-23T05:37:57.061249Z",
          "shell.execute_reply": "2024-08-23T05:37:57.059819Z",
          "shell.execute_reply.started": "2024-08-23T05:37:57.018473Z"
        },
        "id": "7ARw4LUgYfEa",
        "outputId": "f0e2ebb7-0268-4d5c-8552-216670105429",
        "trusted": true
      },
      "outputs": [
        {
          "data": {
            "text/html": [
              "<div>\n",
              "<style scoped>\n",
              "    .dataframe tbody tr th:only-of-type {\n",
              "        vertical-align: middle;\n",
              "    }\n",
              "\n",
              "    .dataframe tbody tr th {\n",
              "        vertical-align: top;\n",
              "    }\n",
              "\n",
              "    .dataframe thead th {\n",
              "        text-align: right;\n",
              "    }\n",
              "</style>\n",
              "<table border=\"1\" class=\"dataframe\">\n",
              "  <thead>\n",
              "    <tr style=\"text-align: right;\">\n",
              "      <th></th>\n",
              "      <th>class</th>\n",
              "      <th>cap-diameter</th>\n",
              "      <th>cap-shape</th>\n",
              "      <th>cap-surface</th>\n",
              "      <th>cap-color</th>\n",
              "      <th>does-bruise-or-bleed</th>\n",
              "      <th>gill-attachment</th>\n",
              "      <th>gill-spacing</th>\n",
              "      <th>gill-color</th>\n",
              "      <th>stem-height</th>\n",
              "      <th>...</th>\n",
              "      <th>stem-root</th>\n",
              "      <th>stem-surface</th>\n",
              "      <th>stem-color</th>\n",
              "      <th>veil-type</th>\n",
              "      <th>veil-color</th>\n",
              "      <th>has-ring</th>\n",
              "      <th>ring-type</th>\n",
              "      <th>spore-print-color</th>\n",
              "      <th>habitat</th>\n",
              "      <th>season</th>\n",
              "    </tr>\n",
              "  </thead>\n",
              "  <tbody>\n",
              "    <tr>\n",
              "      <th>0</th>\n",
              "      <td>e</td>\n",
              "      <td>8.80</td>\n",
              "      <td>53.0</td>\n",
              "      <td>72.0</td>\n",
              "      <td>72.0</td>\n",
              "      <td>8.0</td>\n",
              "      <td>44.0</td>\n",
              "      <td>28.0</td>\n",
              "      <td>59.0</td>\n",
              "      <td>4.51</td>\n",
              "      <td>...</td>\n",
              "      <td>15.0</td>\n",
              "      <td>51.0</td>\n",
              "      <td>55.0</td>\n",
              "      <td>19.0</td>\n",
              "      <td>21.0</td>\n",
              "      <td>5.0</td>\n",
              "      <td>18.0</td>\n",
              "      <td>17.0</td>\n",
              "      <td>25.0</td>\n",
              "      <td>0.0</td>\n",
              "    </tr>\n",
              "    <tr>\n",
              "      <th>1</th>\n",
              "      <td>p</td>\n",
              "      <td>4.51</td>\n",
              "      <td>71.0</td>\n",
              "      <td>56.0</td>\n",
              "      <td>64.0</td>\n",
              "      <td>8.0</td>\n",
              "      <td>44.0</td>\n",
              "      <td>28.0</td>\n",
              "      <td>46.0</td>\n",
              "      <td>4.79</td>\n",
              "      <td>...</td>\n",
              "      <td>15.0</td>\n",
              "      <td>58.0</td>\n",
              "      <td>47.0</td>\n",
              "      <td>19.0</td>\n",
              "      <td>21.0</td>\n",
              "      <td>18.0</td>\n",
              "      <td>39.0</td>\n",
              "      <td>17.0</td>\n",
              "      <td>25.0</td>\n",
              "      <td>3.0</td>\n",
              "    </tr>\n",
              "    <tr>\n",
              "      <th>2</th>\n",
              "      <td>e</td>\n",
              "      <td>6.94</td>\n",
              "      <td>53.0</td>\n",
              "      <td>72.0</td>\n",
              "      <td>49.0</td>\n",
              "      <td>8.0</td>\n",
              "      <td>75.0</td>\n",
              "      <td>28.0</td>\n",
              "      <td>59.0</td>\n",
              "      <td>6.85</td>\n",
              "      <td>...</td>\n",
              "      <td>15.0</td>\n",
              "      <td>51.0</td>\n",
              "      <td>46.0</td>\n",
              "      <td>19.0</td>\n",
              "      <td>21.0</td>\n",
              "      <td>5.0</td>\n",
              "      <td>18.0</td>\n",
              "      <td>17.0</td>\n",
              "      <td>36.0</td>\n",
              "      <td>3.0</td>\n",
              "    </tr>\n",
              "    <tr>\n",
              "      <th>3</th>\n",
              "      <td>e</td>\n",
              "      <td>3.88</td>\n",
              "      <td>53.0</td>\n",
              "      <td>81.0</td>\n",
              "      <td>57.0</td>\n",
              "      <td>8.0</td>\n",
              "      <td>70.0</td>\n",
              "      <td>28.0</td>\n",
              "      <td>37.0</td>\n",
              "      <td>4.16</td>\n",
              "      <td>...</td>\n",
              "      <td>15.0</td>\n",
              "      <td>51.0</td>\n",
              "      <td>55.0</td>\n",
              "      <td>19.0</td>\n",
              "      <td>21.0</td>\n",
              "      <td>5.0</td>\n",
              "      <td>18.0</td>\n",
              "      <td>17.0</td>\n",
              "      <td>25.0</td>\n",
              "      <td>2.0</td>\n",
              "    </tr>\n",
              "    <tr>\n",
              "      <th>4</th>\n",
              "      <td>e</td>\n",
              "      <td>5.85</td>\n",
              "      <td>71.0</td>\n",
              "      <td>65.0</td>\n",
              "      <td>74.0</td>\n",
              "      <td>8.0</td>\n",
              "      <td>47.0</td>\n",
              "      <td>28.0</td>\n",
              "      <td>59.0</td>\n",
              "      <td>3.37</td>\n",
              "      <td>...</td>\n",
              "      <td>15.0</td>\n",
              "      <td>51.0</td>\n",
              "      <td>55.0</td>\n",
              "      <td>19.0</td>\n",
              "      <td>21.0</td>\n",
              "      <td>5.0</td>\n",
              "      <td>18.0</td>\n",
              "      <td>17.0</td>\n",
              "      <td>29.0</td>\n",
              "      <td>0.0</td>\n",
              "    </tr>\n",
              "  </tbody>\n",
              "</table>\n",
              "<p>5 rows × 21 columns</p>\n",
              "</div>"
            ],
            "text/plain": [
              "  class  cap-diameter  cap-shape  cap-surface  cap-color  \\\n",
              "0     e          8.80       53.0         72.0       72.0   \n",
              "1     p          4.51       71.0         56.0       64.0   \n",
              "2     e          6.94       53.0         72.0       49.0   \n",
              "3     e          3.88       53.0         81.0       57.0   \n",
              "4     e          5.85       71.0         65.0       74.0   \n",
              "\n",
              "   does-bruise-or-bleed  gill-attachment  gill-spacing  gill-color  \\\n",
              "0                   8.0             44.0          28.0        59.0   \n",
              "1                   8.0             44.0          28.0        46.0   \n",
              "2                   8.0             75.0          28.0        59.0   \n",
              "3                   8.0             70.0          28.0        37.0   \n",
              "4                   8.0             47.0          28.0        59.0   \n",
              "\n",
              "   stem-height  ...  stem-root  stem-surface  stem-color  veil-type  \\\n",
              "0         4.51  ...       15.0          51.0        55.0       19.0   \n",
              "1         4.79  ...       15.0          58.0        47.0       19.0   \n",
              "2         6.85  ...       15.0          51.0        46.0       19.0   \n",
              "3         4.16  ...       15.0          51.0        55.0       19.0   \n",
              "4         3.37  ...       15.0          51.0        55.0       19.0   \n",
              "\n",
              "   veil-color  has-ring  ring-type  spore-print-color  habitat  season  \n",
              "0        21.0       5.0       18.0               17.0     25.0     0.0  \n",
              "1        21.0      18.0       39.0               17.0     25.0     3.0  \n",
              "2        21.0       5.0       18.0               17.0     36.0     3.0  \n",
              "3        21.0       5.0       18.0               17.0     25.0     2.0  \n",
              "4        21.0       5.0       18.0               17.0     29.0     0.0  \n",
              "\n",
              "[5 rows x 21 columns]"
            ]
          },
          "execution_count": 97,
          "metadata": {},
          "output_type": "execute_result"
        }
      ],
      "source": [
        "df_train_imputed.head()"
      ]
    },
    {
      "cell_type": "code",
      "execution_count": 98,
      "metadata": {
        "colab": {
          "base_uri": "https://localhost:8080/",
          "height": 241
        },
        "execution": {
          "iopub.execute_input": "2024-08-23T05:37:57.06348Z",
          "iopub.status.busy": "2024-08-23T05:37:57.062964Z",
          "iopub.status.idle": "2024-08-23T05:37:57.101166Z",
          "shell.execute_reply": "2024-08-23T05:37:57.099849Z",
          "shell.execute_reply.started": "2024-08-23T05:37:57.063423Z"
        },
        "id": "DrTBYJdAYfEa",
        "outputId": "34db33d4-b969-4666-fd12-bf40f027a0d1",
        "trusted": true
      },
      "outputs": [
        {
          "data": {
            "text/html": [
              "<div>\n",
              "<style scoped>\n",
              "    .dataframe tbody tr th:only-of-type {\n",
              "        vertical-align: middle;\n",
              "    }\n",
              "\n",
              "    .dataframe tbody tr th {\n",
              "        vertical-align: top;\n",
              "    }\n",
              "\n",
              "    .dataframe thead th {\n",
              "        text-align: right;\n",
              "    }\n",
              "</style>\n",
              "<table border=\"1\" class=\"dataframe\">\n",
              "  <thead>\n",
              "    <tr style=\"text-align: right;\">\n",
              "      <th></th>\n",
              "      <th>cap-diameter</th>\n",
              "      <th>cap-shape</th>\n",
              "      <th>cap-surface</th>\n",
              "      <th>cap-color</th>\n",
              "      <th>does-bruise-or-bleed</th>\n",
              "      <th>gill-attachment</th>\n",
              "      <th>gill-spacing</th>\n",
              "      <th>gill-color</th>\n",
              "      <th>stem-height</th>\n",
              "      <th>stem-width</th>\n",
              "      <th>stem-root</th>\n",
              "      <th>stem-surface</th>\n",
              "      <th>stem-color</th>\n",
              "      <th>veil-type</th>\n",
              "      <th>veil-color</th>\n",
              "      <th>has-ring</th>\n",
              "      <th>ring-type</th>\n",
              "      <th>spore-print-color</th>\n",
              "      <th>habitat</th>\n",
              "      <th>season</th>\n",
              "    </tr>\n",
              "  </thead>\n",
              "  <tbody>\n",
              "    <tr>\n",
              "      <th>0</th>\n",
              "      <td>8.64</td>\n",
              "      <td>71.0</td>\n",
              "      <td>76.0</td>\n",
              "      <td>63.0</td>\n",
              "      <td>20.0</td>\n",
              "      <td>44.0</td>\n",
              "      <td>28.0</td>\n",
              "      <td>59.0</td>\n",
              "      <td>11.13</td>\n",
              "      <td>17.12</td>\n",
              "      <td>15.0</td>\n",
              "      <td>51.0</td>\n",
              "      <td>55.0</td>\n",
              "      <td>19.0</td>\n",
              "      <td>21.0</td>\n",
              "      <td>18.0</td>\n",
              "      <td>19.0</td>\n",
              "      <td>17.0</td>\n",
              "      <td>25.0</td>\n",
              "      <td>0.0</td>\n",
              "    </tr>\n",
              "    <tr>\n",
              "      <th>1</th>\n",
              "      <td>6.90</td>\n",
              "      <td>63.0</td>\n",
              "      <td>76.0</td>\n",
              "      <td>64.0</td>\n",
              "      <td>8.0</td>\n",
              "      <td>44.0</td>\n",
              "      <td>28.0</td>\n",
              "      <td>61.0</td>\n",
              "      <td>1.27</td>\n",
              "      <td>10.75</td>\n",
              "      <td>15.0</td>\n",
              "      <td>51.0</td>\n",
              "      <td>46.0</td>\n",
              "      <td>19.0</td>\n",
              "      <td>21.0</td>\n",
              "      <td>5.0</td>\n",
              "      <td>18.0</td>\n",
              "      <td>17.0</td>\n",
              "      <td>25.0</td>\n",
              "      <td>0.0</td>\n",
              "    </tr>\n",
              "    <tr>\n",
              "      <th>2</th>\n",
              "      <td>2.00</td>\n",
              "      <td>48.0</td>\n",
              "      <td>55.0</td>\n",
              "      <td>63.0</td>\n",
              "      <td>8.0</td>\n",
              "      <td>44.0</td>\n",
              "      <td>28.0</td>\n",
              "      <td>46.0</td>\n",
              "      <td>6.18</td>\n",
              "      <td>3.14</td>\n",
              "      <td>15.0</td>\n",
              "      <td>51.0</td>\n",
              "      <td>46.0</td>\n",
              "      <td>19.0</td>\n",
              "      <td>21.0</td>\n",
              "      <td>5.0</td>\n",
              "      <td>18.0</td>\n",
              "      <td>17.0</td>\n",
              "      <td>25.0</td>\n",
              "      <td>1.0</td>\n",
              "    </tr>\n",
              "    <tr>\n",
              "      <th>3</th>\n",
              "      <td>3.47</td>\n",
              "      <td>71.0</td>\n",
              "      <td>76.0</td>\n",
              "      <td>63.0</td>\n",
              "      <td>8.0</td>\n",
              "      <td>70.0</td>\n",
              "      <td>28.0</td>\n",
              "      <td>46.0</td>\n",
              "      <td>4.98</td>\n",
              "      <td>8.51</td>\n",
              "      <td>15.0</td>\n",
              "      <td>51.0</td>\n",
              "      <td>55.0</td>\n",
              "      <td>19.0</td>\n",
              "      <td>14.0</td>\n",
              "      <td>18.0</td>\n",
              "      <td>39.0</td>\n",
              "      <td>17.0</td>\n",
              "      <td>25.0</td>\n",
              "      <td>2.0</td>\n",
              "    </tr>\n",
              "    <tr>\n",
              "      <th>4</th>\n",
              "      <td>6.17</td>\n",
              "      <td>71.0</td>\n",
              "      <td>56.0</td>\n",
              "      <td>76.0</td>\n",
              "      <td>8.0</td>\n",
              "      <td>66.0</td>\n",
              "      <td>28.0</td>\n",
              "      <td>61.0</td>\n",
              "      <td>6.73</td>\n",
              "      <td>13.70</td>\n",
              "      <td>15.0</td>\n",
              "      <td>51.0</td>\n",
              "      <td>57.0</td>\n",
              "      <td>19.0</td>\n",
              "      <td>22.0</td>\n",
              "      <td>18.0</td>\n",
              "      <td>18.0</td>\n",
              "      <td>17.0</td>\n",
              "      <td>25.0</td>\n",
              "      <td>2.0</td>\n",
              "    </tr>\n",
              "  </tbody>\n",
              "</table>\n",
              "</div>"
            ],
            "text/plain": [
              "   cap-diameter  cap-shape  cap-surface  cap-color  does-bruise-or-bleed  \\\n",
              "0          8.64       71.0         76.0       63.0                  20.0   \n",
              "1          6.90       63.0         76.0       64.0                   8.0   \n",
              "2          2.00       48.0         55.0       63.0                   8.0   \n",
              "3          3.47       71.0         76.0       63.0                   8.0   \n",
              "4          6.17       71.0         56.0       76.0                   8.0   \n",
              "\n",
              "   gill-attachment  gill-spacing  gill-color  stem-height  stem-width  \\\n",
              "0             44.0          28.0        59.0        11.13       17.12   \n",
              "1             44.0          28.0        61.0         1.27       10.75   \n",
              "2             44.0          28.0        46.0         6.18        3.14   \n",
              "3             70.0          28.0        46.0         4.98        8.51   \n",
              "4             66.0          28.0        61.0         6.73       13.70   \n",
              "\n",
              "   stem-root  stem-surface  stem-color  veil-type  veil-color  has-ring  \\\n",
              "0       15.0          51.0        55.0       19.0        21.0      18.0   \n",
              "1       15.0          51.0        46.0       19.0        21.0       5.0   \n",
              "2       15.0          51.0        46.0       19.0        21.0       5.0   \n",
              "3       15.0          51.0        55.0       19.0        14.0      18.0   \n",
              "4       15.0          51.0        57.0       19.0        22.0      18.0   \n",
              "\n",
              "   ring-type  spore-print-color  habitat  season  \n",
              "0       19.0               17.0     25.0     0.0  \n",
              "1       18.0               17.0     25.0     0.0  \n",
              "2       18.0               17.0     25.0     1.0  \n",
              "3       39.0               17.0     25.0     2.0  \n",
              "4       18.0               17.0     25.0     2.0  "
            ]
          },
          "execution_count": 98,
          "metadata": {},
          "output_type": "execute_result"
        }
      ],
      "source": [
        "df_test_imputed.head()"
      ]
    },
    {
      "cell_type": "code",
      "execution_count": 99,
      "metadata": {
        "execution": {
          "iopub.execute_input": "2024-08-23T05:37:57.103313Z",
          "iopub.status.busy": "2024-08-23T05:37:57.102887Z",
          "iopub.status.idle": "2024-08-23T05:37:57.475772Z",
          "shell.execute_reply": "2024-08-23T05:37:57.474056Z",
          "shell.execute_reply.started": "2024-08-23T05:37:57.10327Z"
        },
        "id": "Rmo_AxWhYfEa",
        "trusted": true
      },
      "outputs": [],
      "source": [
        "df_train = df_train_imputed\n",
        "df_test = df_test_imputed"
      ]
    },
    {
      "cell_type": "code",
      "execution_count": 100,
      "metadata": {
        "colab": {
          "base_uri": "https://localhost:8080/",
          "height": 241
        },
        "execution": {
          "iopub.execute_input": "2024-08-23T05:37:57.485344Z",
          "iopub.status.busy": "2024-08-23T05:37:57.484107Z",
          "iopub.status.idle": "2024-08-23T05:37:57.524668Z",
          "shell.execute_reply": "2024-08-23T05:37:57.5224Z",
          "shell.execute_reply.started": "2024-08-23T05:37:57.485272Z"
        },
        "id": "l_2jTFojYfEb",
        "outputId": "947c3e32-c19e-435c-d99a-906779b09632",
        "trusted": true
      },
      "outputs": [
        {
          "data": {
            "text/html": [
              "<div>\n",
              "<style scoped>\n",
              "    .dataframe tbody tr th:only-of-type {\n",
              "        vertical-align: middle;\n",
              "    }\n",
              "\n",
              "    .dataframe tbody tr th {\n",
              "        vertical-align: top;\n",
              "    }\n",
              "\n",
              "    .dataframe thead th {\n",
              "        text-align: right;\n",
              "    }\n",
              "</style>\n",
              "<table border=\"1\" class=\"dataframe\">\n",
              "  <thead>\n",
              "    <tr style=\"text-align: right;\">\n",
              "      <th></th>\n",
              "      <th>cap-diameter</th>\n",
              "      <th>cap-shape</th>\n",
              "      <th>cap-surface</th>\n",
              "      <th>cap-color</th>\n",
              "      <th>does-bruise-or-bleed</th>\n",
              "      <th>gill-attachment</th>\n",
              "      <th>gill-spacing</th>\n",
              "      <th>gill-color</th>\n",
              "      <th>stem-height</th>\n",
              "      <th>stem-width</th>\n",
              "      <th>stem-root</th>\n",
              "      <th>stem-surface</th>\n",
              "      <th>stem-color</th>\n",
              "      <th>veil-type</th>\n",
              "      <th>veil-color</th>\n",
              "      <th>has-ring</th>\n",
              "      <th>ring-type</th>\n",
              "      <th>spore-print-color</th>\n",
              "      <th>habitat</th>\n",
              "      <th>season</th>\n",
              "    </tr>\n",
              "  </thead>\n",
              "  <tbody>\n",
              "    <tr>\n",
              "      <th>0</th>\n",
              "      <td>8.64</td>\n",
              "      <td>71.0</td>\n",
              "      <td>76.0</td>\n",
              "      <td>63.0</td>\n",
              "      <td>20.0</td>\n",
              "      <td>44.0</td>\n",
              "      <td>28.0</td>\n",
              "      <td>59.0</td>\n",
              "      <td>11.13</td>\n",
              "      <td>17.12</td>\n",
              "      <td>15.0</td>\n",
              "      <td>51.0</td>\n",
              "      <td>55.0</td>\n",
              "      <td>19.0</td>\n",
              "      <td>21.0</td>\n",
              "      <td>18.0</td>\n",
              "      <td>19.0</td>\n",
              "      <td>17.0</td>\n",
              "      <td>25.0</td>\n",
              "      <td>0.0</td>\n",
              "    </tr>\n",
              "    <tr>\n",
              "      <th>1</th>\n",
              "      <td>6.90</td>\n",
              "      <td>63.0</td>\n",
              "      <td>76.0</td>\n",
              "      <td>64.0</td>\n",
              "      <td>8.0</td>\n",
              "      <td>44.0</td>\n",
              "      <td>28.0</td>\n",
              "      <td>61.0</td>\n",
              "      <td>1.27</td>\n",
              "      <td>10.75</td>\n",
              "      <td>15.0</td>\n",
              "      <td>51.0</td>\n",
              "      <td>46.0</td>\n",
              "      <td>19.0</td>\n",
              "      <td>21.0</td>\n",
              "      <td>5.0</td>\n",
              "      <td>18.0</td>\n",
              "      <td>17.0</td>\n",
              "      <td>25.0</td>\n",
              "      <td>0.0</td>\n",
              "    </tr>\n",
              "    <tr>\n",
              "      <th>2</th>\n",
              "      <td>2.00</td>\n",
              "      <td>48.0</td>\n",
              "      <td>55.0</td>\n",
              "      <td>63.0</td>\n",
              "      <td>8.0</td>\n",
              "      <td>44.0</td>\n",
              "      <td>28.0</td>\n",
              "      <td>46.0</td>\n",
              "      <td>6.18</td>\n",
              "      <td>3.14</td>\n",
              "      <td>15.0</td>\n",
              "      <td>51.0</td>\n",
              "      <td>46.0</td>\n",
              "      <td>19.0</td>\n",
              "      <td>21.0</td>\n",
              "      <td>5.0</td>\n",
              "      <td>18.0</td>\n",
              "      <td>17.0</td>\n",
              "      <td>25.0</td>\n",
              "      <td>1.0</td>\n",
              "    </tr>\n",
              "    <tr>\n",
              "      <th>3</th>\n",
              "      <td>3.47</td>\n",
              "      <td>71.0</td>\n",
              "      <td>76.0</td>\n",
              "      <td>63.0</td>\n",
              "      <td>8.0</td>\n",
              "      <td>70.0</td>\n",
              "      <td>28.0</td>\n",
              "      <td>46.0</td>\n",
              "      <td>4.98</td>\n",
              "      <td>8.51</td>\n",
              "      <td>15.0</td>\n",
              "      <td>51.0</td>\n",
              "      <td>55.0</td>\n",
              "      <td>19.0</td>\n",
              "      <td>14.0</td>\n",
              "      <td>18.0</td>\n",
              "      <td>39.0</td>\n",
              "      <td>17.0</td>\n",
              "      <td>25.0</td>\n",
              "      <td>2.0</td>\n",
              "    </tr>\n",
              "    <tr>\n",
              "      <th>4</th>\n",
              "      <td>6.17</td>\n",
              "      <td>71.0</td>\n",
              "      <td>56.0</td>\n",
              "      <td>76.0</td>\n",
              "      <td>8.0</td>\n",
              "      <td>66.0</td>\n",
              "      <td>28.0</td>\n",
              "      <td>61.0</td>\n",
              "      <td>6.73</td>\n",
              "      <td>13.70</td>\n",
              "      <td>15.0</td>\n",
              "      <td>51.0</td>\n",
              "      <td>57.0</td>\n",
              "      <td>19.0</td>\n",
              "      <td>22.0</td>\n",
              "      <td>18.0</td>\n",
              "      <td>18.0</td>\n",
              "      <td>17.0</td>\n",
              "      <td>25.0</td>\n",
              "      <td>2.0</td>\n",
              "    </tr>\n",
              "  </tbody>\n",
              "</table>\n",
              "</div>"
            ],
            "text/plain": [
              "   cap-diameter  cap-shape  cap-surface  cap-color  does-bruise-or-bleed  \\\n",
              "0          8.64       71.0         76.0       63.0                  20.0   \n",
              "1          6.90       63.0         76.0       64.0                   8.0   \n",
              "2          2.00       48.0         55.0       63.0                   8.0   \n",
              "3          3.47       71.0         76.0       63.0                   8.0   \n",
              "4          6.17       71.0         56.0       76.0                   8.0   \n",
              "\n",
              "   gill-attachment  gill-spacing  gill-color  stem-height  stem-width  \\\n",
              "0             44.0          28.0        59.0        11.13       17.12   \n",
              "1             44.0          28.0        61.0         1.27       10.75   \n",
              "2             44.0          28.0        46.0         6.18        3.14   \n",
              "3             70.0          28.0        46.0         4.98        8.51   \n",
              "4             66.0          28.0        61.0         6.73       13.70   \n",
              "\n",
              "   stem-root  stem-surface  stem-color  veil-type  veil-color  has-ring  \\\n",
              "0       15.0          51.0        55.0       19.0        21.0      18.0   \n",
              "1       15.0          51.0        46.0       19.0        21.0       5.0   \n",
              "2       15.0          51.0        46.0       19.0        21.0       5.0   \n",
              "3       15.0          51.0        55.0       19.0        14.0      18.0   \n",
              "4       15.0          51.0        57.0       19.0        22.0      18.0   \n",
              "\n",
              "   ring-type  spore-print-color  habitat  season  \n",
              "0       19.0               17.0     25.0     0.0  \n",
              "1       18.0               17.0     25.0     0.0  \n",
              "2       18.0               17.0     25.0     1.0  \n",
              "3       39.0               17.0     25.0     2.0  \n",
              "4       18.0               17.0     25.0     2.0  "
            ]
          },
          "execution_count": 100,
          "metadata": {},
          "output_type": "execute_result"
        }
      ],
      "source": [
        "df_test.head()"
      ]
    },
    {
      "cell_type": "code",
      "execution_count": 101,
      "metadata": {
        "execution": {
          "iopub.execute_input": "2024-08-23T05:37:57.526949Z",
          "iopub.status.busy": "2024-08-23T05:37:57.526079Z",
          "iopub.status.idle": "2024-08-23T05:37:58.398376Z",
          "shell.execute_reply": "2024-08-23T05:37:58.396306Z",
          "shell.execute_reply.started": "2024-08-23T05:37:57.526868Z"
        },
        "id": "hz0pxN0hYfEb",
        "trusted": true
      },
      "outputs": [],
      "source": [
        "le = LabelEncoder()\n",
        "df_train['class'] = le.fit_transform(df_train['class'])"
      ]
    },
    {
      "cell_type": "markdown",
      "metadata": {
        "id": "B-88piiZYfEb"
      },
      "source": [
        "<div style=\"border-radius:10px; border:#DEB887 solid; padding: 15px; background-color: #7FFFD4; font-size:100%; text-align:left\">\n",
        "\n",
        "<h3 align=\"center\"><font color='#DAA520'>💡 Observation from above plot :</font></h3>\n",
        "    \n"
      ]
    },
    {
      "cell_type": "code",
      "execution_count": 102,
      "metadata": {
        "execution": {
          "iopub.execute_input": "2024-08-23T05:37:58.401144Z",
          "iopub.status.busy": "2024-08-23T05:37:58.400506Z",
          "iopub.status.idle": "2024-08-23T05:37:58.651419Z",
          "shell.execute_reply": "2024-08-23T05:37:58.650085Z",
          "shell.execute_reply.started": "2024-08-23T05:37:58.40107Z"
        },
        "id": "tURhW-bbYfEb",
        "trusted": true
      },
      "outputs": [],
      "source": [
        "y = df_train['class']\n",
        "X = df_train.drop(['class'],axis=1)"
      ]
    },
    {
      "cell_type": "markdown",
      "metadata": {
        "id": "vEtBlloJYfEb"
      },
      "source": [
        "<p style=\"font-family: 'Amiri', serif; font-size: 3rem; color: black; text-align: center; margin: 0; text-shadow: 2px 2px 4px rgba(0, 0, 0, 0.3); background-color: cyan; padding: 20px; border-radius: 20px; border: 7px solid #2ca02c; width: 95%;\">\n",
        "  <span style=\"font-weight: bold; color: #ff7f0e; animation: pulse 2s infinite;\"></span>Model Building |\n",
        "  <span style=\"font-style: italic; color: #2ca02c; animation: pulse 2s infinite;\"> Training |</span> Classification\n",
        "\n",
        "</p>"
      ]
    },
    {
      "cell_type": "code",
      "execution_count": 103,
      "metadata": {
        "execution": {
          "iopub.execute_input": "2024-08-23T05:37:58.653397Z",
          "iopub.status.busy": "2024-08-23T05:37:58.652976Z",
          "iopub.status.idle": "2024-08-23T05:38:01.634498Z",
          "shell.execute_reply": "2024-08-23T05:38:01.633228Z",
          "shell.execute_reply.started": "2024-08-23T05:37:58.653357Z"
        },
        "id": "HOT_r93_YfEb",
        "trusted": true
      },
      "outputs": [],
      "source": [
        "train_X, test_X, train_y, test_y = train_test_split(X, y,test_size = 0.2, random_state =42,stratify=y)"
      ]
    },
    {
      "cell_type": "markdown",
      "metadata": {
        "id": "-PHI2X9xYfEb"
      },
      "source": [
        "<div class=\"alert alert-success\">  \n",
        "    <h1 align=\"center\" style=\"color:darkgoldenrod;\">🎇🌭Classification Analysis♒🌊</h1>  \n",
        "     \n",
        "</div>"
      ]
    },
    {
      "cell_type": "code",
      "execution_count": 104,
      "metadata": {
        "execution": {
          "iopub.execute_input": "2024-08-23T05:38:01.636534Z",
          "iopub.status.busy": "2024-08-23T05:38:01.636143Z",
          "iopub.status.idle": "2024-08-23T05:38:01.642654Z",
          "shell.execute_reply": "2024-08-23T05:38:01.641017Z",
          "shell.execute_reply.started": "2024-08-23T05:38:01.636496Z"
        },
        "id": "X5ywO543YfEb",
        "trusted": true
      },
      "outputs": [],
      "source": [
        "from sklearn.metrics import matthews_corrcoef"
      ]
    },
    {
      "cell_type": "code",
      "execution_count": 105,
      "metadata": {
        "execution": {
          "iopub.execute_input": "2024-08-23T05:38:01.64579Z",
          "iopub.status.busy": "2024-08-23T05:38:01.645176Z",
          "iopub.status.idle": "2024-08-23T05:38:01.663822Z",
          "shell.execute_reply": "2024-08-23T05:38:01.662346Z",
          "shell.execute_reply.started": "2024-08-23T05:38:01.645695Z"
        },
        "id": "gs2GdSFTYfEb",
        "trusted": true
      },
      "outputs": [],
      "source": [
        "def mcc_metric(y_pred, dmatrix):\n",
        "    y_true = dmatrix.get_label()\n",
        "    y_pred = (y_pred > 0.5).astype(int)\n",
        "    mcc = matthews_corrcoef(y_true, y_pred)\n",
        "    return 'mcc', mcc"
      ]
    },
    {
      "cell_type": "code",
      "execution_count": 106,
      "metadata": {
        "_kg_hide-input": false,
        "_kg_hide-output": true,
        "execution": {
          "iopub.execute_input": "2024-08-23T05:38:01.666785Z",
          "iopub.status.busy": "2024-08-23T05:38:01.666273Z",
          "iopub.status.idle": "2024-08-23T05:39:28.632442Z",
          "shell.execute_reply": "2024-08-23T05:39:28.631222Z",
          "shell.execute_reply.started": "2024-08-23T05:38:01.66674Z"
        },
        "id": "TlSc5AvnYfEb",
        "trusted": true
      },
      "outputs": [],
      "source": [
        "from sklearn.metrics import matthews_corrcoef\n",
        "from xgboost import XGBClassifier\n",
        "\n",
        "model = XGBClassifier(\n",
        "    alpha=0.1,\n",
        "    subsample=0.8,\n",
        "    colsample_bytree=0.6,\n",
        "    objective='binary:logistic',\n",
        "    max_depth=14,\n",
        "    min_child_weight=7,\n",
        "    gamma=1e-6,\n",
        "    #random_state=42,\n",
        "    n_estimators=100\n",
        "    )\n",
        "\n",
        "XGB = model.fit(\n",
        "    train_X,\n",
        "    train_y,\n",
        "    eval_set=[(test_X, test_y)],\n",
        "    verbose=False\n",
        "    )"
      ]
    },
    {
      "cell_type": "code",
      "execution_count": 107,
      "metadata": {
        "_kg_hide-output": true,
        "execution": {
          "iopub.execute_input": "2024-08-23T05:39:28.639214Z",
          "iopub.status.busy": "2024-08-23T05:39:28.638112Z",
          "iopub.status.idle": "2024-08-23T05:39:31.417313Z",
          "shell.execute_reply": "2024-08-23T05:39:31.415922Z",
          "shell.execute_reply.started": "2024-08-23T05:39:28.63915Z"
        },
        "id": "CSgmhX_aYfEc",
        "trusted": true
      },
      "outputs": [],
      "source": [
        "y_pred = XGB.predict(test_X)"
      ]
    },
    {
      "cell_type": "code",
      "execution_count": 108,
      "metadata": {
        "colab": {
          "base_uri": "https://localhost:8080/"
        },
        "id": "tIXnk-OMdWGG",
        "outputId": "4427d30a-7995-4bdc-8767-ad5e52cdafa9"
      },
      "outputs": [
        {
          "name": "stdout",
          "output_type": "stream",
          "text": [
            "Requirement already satisfied: lime in c:\\users\\andre\\appdata\\local\\programs\\python\\python312\\lib\\site-packages (0.2.0.1)\n",
            "Requirement already satisfied: matplotlib in c:\\users\\andre\\appdata\\roaming\\python\\python312\\site-packages (from lime) (3.8.2)\n",
            "Requirement already satisfied: numpy in c:\\users\\andre\\appdata\\local\\programs\\python\\python312\\lib\\site-packages (from lime) (1.26.2)\n",
            "Requirement already satisfied: scipy in c:\\users\\andre\\appdata\\local\\programs\\python\\python312\\lib\\site-packages (from lime) (1.13.1)\n",
            "Requirement already satisfied: tqdm in c:\\users\\andre\\appdata\\local\\programs\\python\\python312\\lib\\site-packages (from lime) (4.66.1)\n",
            "Requirement already satisfied: scikit-learn>=0.18 in c:\\users\\andre\\appdata\\local\\programs\\python\\python312\\lib\\site-packages (from lime) (1.5.0)\n",
            "Requirement already satisfied: scikit-image>=0.12 in c:\\users\\andre\\appdata\\local\\programs\\python\\python312\\lib\\site-packages (from lime) (0.24.0)\n",
            "Requirement already satisfied: networkx>=2.8 in c:\\users\\andre\\appdata\\local\\programs\\python\\python312\\lib\\site-packages (from scikit-image>=0.12->lime) (3.3)\n",
            "Requirement already satisfied: pillow>=9.1 in c:\\users\\andre\\appdata\\local\\programs\\python\\python312\\lib\\site-packages (from scikit-image>=0.12->lime) (10.1.0)\n",
            "Requirement already satisfied: imageio>=2.33 in c:\\users\\andre\\appdata\\local\\programs\\python\\python312\\lib\\site-packages (from scikit-image>=0.12->lime) (2.35.1)\n",
            "Requirement already satisfied: tifffile>=2022.8.12 in c:\\users\\andre\\appdata\\local\\programs\\python\\python312\\lib\\site-packages (from scikit-image>=0.12->lime) (2024.8.10)\n",
            "Requirement already satisfied: packaging>=21 in c:\\users\\andre\\appdata\\local\\programs\\python\\python312\\lib\\site-packages (from scikit-image>=0.12->lime) (23.2)\n",
            "Requirement already satisfied: lazy-loader>=0.4 in c:\\users\\andre\\appdata\\local\\programs\\python\\python312\\lib\\site-packages (from scikit-image>=0.12->lime) (0.4)\n",
            "Requirement already satisfied: joblib>=1.2.0 in c:\\users\\andre\\appdata\\local\\programs\\python\\python312\\lib\\site-packages (from scikit-learn>=0.18->lime) (1.4.2)\n",
            "Requirement already satisfied: threadpoolctl>=3.1.0 in c:\\users\\andre\\appdata\\local\\programs\\python\\python312\\lib\\site-packages (from scikit-learn>=0.18->lime) (3.5.0)\n",
            "Requirement already satisfied: contourpy>=1.0.1 in c:\\users\\andre\\appdata\\roaming\\python\\python312\\site-packages (from matplotlib->lime) (1.2.0)\n",
            "Requirement already satisfied: cycler>=0.10 in c:\\users\\andre\\appdata\\roaming\\python\\python312\\site-packages (from matplotlib->lime) (0.12.1)\n",
            "Requirement already satisfied: fonttools>=4.22.0 in c:\\users\\andre\\appdata\\roaming\\python\\python312\\site-packages (from matplotlib->lime) (4.45.1)\n",
            "Requirement already satisfied: kiwisolver>=1.3.1 in c:\\users\\andre\\appdata\\roaming\\python\\python312\\site-packages (from matplotlib->lime) (1.4.5)\n",
            "Requirement already satisfied: pyparsing>=2.3.1 in c:\\users\\andre\\appdata\\local\\programs\\python\\python312\\lib\\site-packages (from matplotlib->lime) (3.1.1)\n",
            "Requirement already satisfied: python-dateutil>=2.7 in c:\\users\\andre\\appdata\\roaming\\python\\python312\\site-packages (from matplotlib->lime) (2.8.2)\n",
            "Requirement already satisfied: colorama in c:\\users\\andre\\appdata\\local\\programs\\python\\python312\\lib\\site-packages (from tqdm->lime) (0.4.6)\n",
            "Requirement already satisfied: six>=1.5 in c:\\users\\andre\\appdata\\local\\programs\\python\\python312\\lib\\site-packages (from python-dateutil>=2.7->matplotlib->lime) (1.16.0)\n"
          ]
        }
      ],
      "source": [
        "!pip install lime"
      ]
    },
    {
      "cell_type": "code",
      "execution_count": 109,
      "metadata": {
        "execution": {
          "iopub.execute_input": "2024-08-23T05:48:51.489132Z",
          "iopub.status.busy": "2024-08-23T05:48:51.488605Z",
          "iopub.status.idle": "2024-08-23T05:48:51.505185Z",
          "shell.execute_reply": "2024-08-23T05:48:51.503953Z",
          "shell.execute_reply.started": "2024-08-23T05:48:51.489079Z"
        },
        "id": "L5PVw8fQYfEc",
        "trusted": true
      },
      "outputs": [],
      "source": [
        "import lime\n",
        "import lime.lime_tabular"
      ]
    },
    {
      "cell_type": "code",
      "execution_count": 110,
      "metadata": {
        "execution": {
          "iopub.execute_input": "2024-08-23T05:58:25.863966Z",
          "iopub.status.busy": "2024-08-23T05:58:25.86346Z",
          "iopub.status.idle": "2024-08-23T05:58:49.164993Z",
          "shell.execute_reply": "2024-08-23T05:58:49.16301Z",
          "shell.execute_reply.started": "2024-08-23T05:58:25.863923Z"
        },
        "id": "kxe-v93eYfEc",
        "trusted": true
      },
      "outputs": [],
      "source": [
        "redict_fn_xgb = lambda x: XGB.predict_proba(x).astype(float)\n",
        "X = train_X.values\n",
        "explainer = lime.lime_tabular.LimeTabularExplainer(X,feature_names = train_X.columns,class_names=['Poisnous','edible'],kernel_width=5)"
      ]
    },
    {
      "cell_type": "code",
      "execution_count": 111,
      "metadata": {
        "colab": {
          "base_uri": "https://localhost:8080/",
          "height": 209
        },
        "execution": {
          "iopub.execute_input": "2024-08-23T05:58:49.167994Z",
          "iopub.status.busy": "2024-08-23T05:58:49.167535Z",
          "iopub.status.idle": "2024-08-23T05:58:49.201121Z",
          "shell.execute_reply": "2024-08-23T05:58:49.199707Z",
          "shell.execute_reply.started": "2024-08-23T05:58:49.167951Z"
        },
        "id": "khKrGub4YfEc",
        "outputId": "4115fd71-c800-4afa-97b7-4693d4c5b767",
        "trusted": true
      },
      "outputs": [
        {
          "data": {
            "text/html": [
              "<div>\n",
              "<style scoped>\n",
              "    .dataframe tbody tr th:only-of-type {\n",
              "        vertical-align: middle;\n",
              "    }\n",
              "\n",
              "    .dataframe tbody tr th {\n",
              "        vertical-align: top;\n",
              "    }\n",
              "\n",
              "    .dataframe thead th {\n",
              "        text-align: right;\n",
              "    }\n",
              "</style>\n",
              "<table border=\"1\" class=\"dataframe\">\n",
              "  <thead>\n",
              "    <tr style=\"text-align: right;\">\n",
              "      <th></th>\n",
              "      <th>cap-diameter</th>\n",
              "      <th>cap-shape</th>\n",
              "      <th>cap-surface</th>\n",
              "      <th>cap-color</th>\n",
              "      <th>does-bruise-or-bleed</th>\n",
              "      <th>gill-attachment</th>\n",
              "      <th>gill-spacing</th>\n",
              "      <th>gill-color</th>\n",
              "      <th>stem-height</th>\n",
              "      <th>stem-width</th>\n",
              "      <th>stem-root</th>\n",
              "      <th>stem-surface</th>\n",
              "      <th>stem-color</th>\n",
              "      <th>veil-type</th>\n",
              "      <th>veil-color</th>\n",
              "      <th>has-ring</th>\n",
              "      <th>ring-type</th>\n",
              "      <th>spore-print-color</th>\n",
              "      <th>habitat</th>\n",
              "      <th>season</th>\n",
              "    </tr>\n",
              "  </thead>\n",
              "  <tbody>\n",
              "    <tr>\n",
              "      <th>0</th>\n",
              "      <td>8.64</td>\n",
              "      <td>71.0</td>\n",
              "      <td>76.0</td>\n",
              "      <td>63.0</td>\n",
              "      <td>20.0</td>\n",
              "      <td>44.0</td>\n",
              "      <td>28.0</td>\n",
              "      <td>59.0</td>\n",
              "      <td>11.13</td>\n",
              "      <td>17.12</td>\n",
              "      <td>15.0</td>\n",
              "      <td>51.0</td>\n",
              "      <td>55.0</td>\n",
              "      <td>19.0</td>\n",
              "      <td>21.0</td>\n",
              "      <td>18.0</td>\n",
              "      <td>19.0</td>\n",
              "      <td>17.0</td>\n",
              "      <td>25.0</td>\n",
              "      <td>0.0</td>\n",
              "    </tr>\n",
              "    <tr>\n",
              "      <th>1</th>\n",
              "      <td>6.90</td>\n",
              "      <td>63.0</td>\n",
              "      <td>76.0</td>\n",
              "      <td>64.0</td>\n",
              "      <td>8.0</td>\n",
              "      <td>44.0</td>\n",
              "      <td>28.0</td>\n",
              "      <td>61.0</td>\n",
              "      <td>1.27</td>\n",
              "      <td>10.75</td>\n",
              "      <td>15.0</td>\n",
              "      <td>51.0</td>\n",
              "      <td>46.0</td>\n",
              "      <td>19.0</td>\n",
              "      <td>21.0</td>\n",
              "      <td>5.0</td>\n",
              "      <td>18.0</td>\n",
              "      <td>17.0</td>\n",
              "      <td>25.0</td>\n",
              "      <td>0.0</td>\n",
              "    </tr>\n",
              "    <tr>\n",
              "      <th>2</th>\n",
              "      <td>2.00</td>\n",
              "      <td>48.0</td>\n",
              "      <td>55.0</td>\n",
              "      <td>63.0</td>\n",
              "      <td>8.0</td>\n",
              "      <td>44.0</td>\n",
              "      <td>28.0</td>\n",
              "      <td>46.0</td>\n",
              "      <td>6.18</td>\n",
              "      <td>3.14</td>\n",
              "      <td>15.0</td>\n",
              "      <td>51.0</td>\n",
              "      <td>46.0</td>\n",
              "      <td>19.0</td>\n",
              "      <td>21.0</td>\n",
              "      <td>5.0</td>\n",
              "      <td>18.0</td>\n",
              "      <td>17.0</td>\n",
              "      <td>25.0</td>\n",
              "      <td>1.0</td>\n",
              "    </tr>\n",
              "    <tr>\n",
              "      <th>3</th>\n",
              "      <td>3.47</td>\n",
              "      <td>71.0</td>\n",
              "      <td>76.0</td>\n",
              "      <td>63.0</td>\n",
              "      <td>8.0</td>\n",
              "      <td>70.0</td>\n",
              "      <td>28.0</td>\n",
              "      <td>46.0</td>\n",
              "      <td>4.98</td>\n",
              "      <td>8.51</td>\n",
              "      <td>15.0</td>\n",
              "      <td>51.0</td>\n",
              "      <td>55.0</td>\n",
              "      <td>19.0</td>\n",
              "      <td>14.0</td>\n",
              "      <td>18.0</td>\n",
              "      <td>39.0</td>\n",
              "      <td>17.0</td>\n",
              "      <td>25.0</td>\n",
              "      <td>2.0</td>\n",
              "    </tr>\n",
              "  </tbody>\n",
              "</table>\n",
              "</div>"
            ],
            "text/plain": [
              "   cap-diameter  cap-shape  cap-surface  cap-color  does-bruise-or-bleed  \\\n",
              "0          8.64       71.0         76.0       63.0                  20.0   \n",
              "1          6.90       63.0         76.0       64.0                   8.0   \n",
              "2          2.00       48.0         55.0       63.0                   8.0   \n",
              "3          3.47       71.0         76.0       63.0                   8.0   \n",
              "\n",
              "   gill-attachment  gill-spacing  gill-color  stem-height  stem-width  \\\n",
              "0             44.0          28.0        59.0        11.13       17.12   \n",
              "1             44.0          28.0        61.0         1.27       10.75   \n",
              "2             44.0          28.0        46.0         6.18        3.14   \n",
              "3             70.0          28.0        46.0         4.98        8.51   \n",
              "\n",
              "   stem-root  stem-surface  stem-color  veil-type  veil-color  has-ring  \\\n",
              "0       15.0          51.0        55.0       19.0        21.0      18.0   \n",
              "1       15.0          51.0        46.0       19.0        21.0       5.0   \n",
              "2       15.0          51.0        46.0       19.0        21.0       5.0   \n",
              "3       15.0          51.0        55.0       19.0        14.0      18.0   \n",
              "\n",
              "   ring-type  spore-print-color  habitat  season  \n",
              "0       19.0               17.0     25.0     0.0  \n",
              "1       18.0               17.0     25.0     0.0  \n",
              "2       18.0               17.0     25.0     1.0  \n",
              "3       39.0               17.0     25.0     2.0  "
            ]
          },
          "execution_count": 111,
          "metadata": {},
          "output_type": "execute_result"
        }
      ],
      "source": [
        "df_test.head(4)"
      ]
    },
    {
      "cell_type": "code",
      "execution_count": 112,
      "metadata": {
        "colab": {
          "base_uri": "https://localhost:8080/",
          "height": 115
        },
        "execution": {
          "iopub.execute_input": "2024-08-23T05:58:49.203495Z",
          "iopub.status.busy": "2024-08-23T05:58:49.202981Z",
          "iopub.status.idle": "2024-08-23T05:58:49.232556Z",
          "shell.execute_reply": "2024-08-23T05:58:49.231043Z",
          "shell.execute_reply.started": "2024-08-23T05:58:49.203438Z"
        },
        "id": "urWDQV97YfEc",
        "outputId": "79783dd0-09ae-4255-d25f-573445915854",
        "trusted": true
      },
      "outputs": [
        {
          "data": {
            "text/html": [
              "<div>\n",
              "<style scoped>\n",
              "    .dataframe tbody tr th:only-of-type {\n",
              "        vertical-align: middle;\n",
              "    }\n",
              "\n",
              "    .dataframe tbody tr th {\n",
              "        vertical-align: top;\n",
              "    }\n",
              "\n",
              "    .dataframe thead th {\n",
              "        text-align: right;\n",
              "    }\n",
              "</style>\n",
              "<table border=\"1\" class=\"dataframe\">\n",
              "  <thead>\n",
              "    <tr style=\"text-align: right;\">\n",
              "      <th></th>\n",
              "      <th>cap-diameter</th>\n",
              "      <th>cap-shape</th>\n",
              "      <th>cap-surface</th>\n",
              "      <th>cap-color</th>\n",
              "      <th>does-bruise-or-bleed</th>\n",
              "      <th>gill-attachment</th>\n",
              "      <th>gill-spacing</th>\n",
              "      <th>gill-color</th>\n",
              "      <th>stem-height</th>\n",
              "      <th>stem-width</th>\n",
              "      <th>stem-root</th>\n",
              "      <th>stem-surface</th>\n",
              "      <th>stem-color</th>\n",
              "      <th>veil-type</th>\n",
              "      <th>veil-color</th>\n",
              "      <th>has-ring</th>\n",
              "      <th>ring-type</th>\n",
              "      <th>spore-print-color</th>\n",
              "      <th>habitat</th>\n",
              "      <th>season</th>\n",
              "    </tr>\n",
              "  </thead>\n",
              "  <tbody>\n",
              "    <tr>\n",
              "      <th>3</th>\n",
              "      <td>3.47</td>\n",
              "      <td>71.0</td>\n",
              "      <td>76.0</td>\n",
              "      <td>63.0</td>\n",
              "      <td>8.0</td>\n",
              "      <td>70.0</td>\n",
              "      <td>28.0</td>\n",
              "      <td>46.0</td>\n",
              "      <td>4.98</td>\n",
              "      <td>8.51</td>\n",
              "      <td>15.0</td>\n",
              "      <td>51.0</td>\n",
              "      <td>55.0</td>\n",
              "      <td>19.0</td>\n",
              "      <td>14.0</td>\n",
              "      <td>18.0</td>\n",
              "      <td>39.0</td>\n",
              "      <td>17.0</td>\n",
              "      <td>25.0</td>\n",
              "      <td>2.0</td>\n",
              "    </tr>\n",
              "  </tbody>\n",
              "</table>\n",
              "</div>"
            ],
            "text/plain": [
              "   cap-diameter  cap-shape  cap-surface  cap-color  does-bruise-or-bleed  \\\n",
              "3          3.47       71.0         76.0       63.0                   8.0   \n",
              "\n",
              "   gill-attachment  gill-spacing  gill-color  stem-height  stem-width  \\\n",
              "3             70.0          28.0        46.0         4.98        8.51   \n",
              "\n",
              "   stem-root  stem-surface  stem-color  veil-type  veil-color  has-ring  \\\n",
              "3       15.0          51.0        55.0       19.0        14.0      18.0   \n",
              "\n",
              "   ring-type  spore-print-color  habitat  season  \n",
              "3       39.0               17.0     25.0     2.0  "
            ]
          },
          "execution_count": 112,
          "metadata": {},
          "output_type": "execute_result"
        }
      ],
      "source": [
        "df_test.loc[[3]]"
      ]
    },
    {
      "cell_type": "code",
      "execution_count": 113,
      "metadata": {
        "colab": {
          "base_uri": "https://localhost:8080/",
          "height": 458
        },
        "execution": {
          "iopub.execute_input": "2024-08-23T05:58:49.236339Z",
          "iopub.status.busy": "2024-08-23T05:58:49.235773Z",
          "iopub.status.idle": "2024-08-23T05:58:49.289903Z",
          "shell.execute_reply": "2024-08-23T05:58:49.288645Z",
          "shell.execute_reply.started": "2024-08-23T05:58:49.236266Z"
        },
        "id": "ajUr1cJfYfEc",
        "outputId": "a079f29d-6277-48c9-f4e3-3f604cbb0ae5",
        "trusted": true
      },
      "outputs": [
        {
          "data": {
            "text/html": [
              "<div>\n",
              "<style scoped>\n",
              "    .dataframe tbody tr th:only-of-type {\n",
              "        vertical-align: middle;\n",
              "    }\n",
              "\n",
              "    .dataframe tbody tr th {\n",
              "        vertical-align: top;\n",
              "    }\n",
              "\n",
              "    .dataframe thead th {\n",
              "        text-align: right;\n",
              "    }\n",
              "</style>\n",
              "<table border=\"1\" class=\"dataframe\">\n",
              "  <thead>\n",
              "    <tr style=\"text-align: right;\">\n",
              "      <th></th>\n",
              "      <th>cap-diameter</th>\n",
              "      <th>cap-shape</th>\n",
              "      <th>cap-surface</th>\n",
              "      <th>cap-color</th>\n",
              "      <th>does-bruise-or-bleed</th>\n",
              "      <th>gill-attachment</th>\n",
              "      <th>gill-spacing</th>\n",
              "      <th>gill-color</th>\n",
              "      <th>stem-height</th>\n",
              "      <th>stem-width</th>\n",
              "      <th>stem-root</th>\n",
              "      <th>stem-surface</th>\n",
              "      <th>stem-color</th>\n",
              "      <th>veil-type</th>\n",
              "      <th>veil-color</th>\n",
              "      <th>has-ring</th>\n",
              "      <th>ring-type</th>\n",
              "      <th>spore-print-color</th>\n",
              "      <th>habitat</th>\n",
              "      <th>season</th>\n",
              "    </tr>\n",
              "  </thead>\n",
              "  <tbody>\n",
              "    <tr>\n",
              "      <th>1745452</th>\n",
              "      <td>4.00</td>\n",
              "      <td>53.0</td>\n",
              "      <td>76.0</td>\n",
              "      <td>63.0</td>\n",
              "      <td>8.0</td>\n",
              "      <td>44.0</td>\n",
              "      <td>31.0</td>\n",
              "      <td>61.0</td>\n",
              "      <td>7.55</td>\n",
              "      <td>7.06</td>\n",
              "      <td>15.0</td>\n",
              "      <td>44.0</td>\n",
              "      <td>47.0</td>\n",
              "      <td>19.0</td>\n",
              "      <td>21.0</td>\n",
              "      <td>5.0</td>\n",
              "      <td>18.0</td>\n",
              "      <td>17.0</td>\n",
              "      <td>25.0</td>\n",
              "      <td>1.0</td>\n",
              "    </tr>\n",
              "    <tr>\n",
              "      <th>288331</th>\n",
              "      <td>9.30</td>\n",
              "      <td>63.0</td>\n",
              "      <td>76.0</td>\n",
              "      <td>63.0</td>\n",
              "      <td>8.0</td>\n",
              "      <td>44.0</td>\n",
              "      <td>28.0</td>\n",
              "      <td>59.0</td>\n",
              "      <td>5.00</td>\n",
              "      <td>26.53</td>\n",
              "      <td>15.0</td>\n",
              "      <td>51.0</td>\n",
              "      <td>46.0</td>\n",
              "      <td>19.0</td>\n",
              "      <td>21.0</td>\n",
              "      <td>5.0</td>\n",
              "      <td>18.0</td>\n",
              "      <td>17.0</td>\n",
              "      <td>25.0</td>\n",
              "      <td>2.0</td>\n",
              "    </tr>\n",
              "    <tr>\n",
              "      <th>421615</th>\n",
              "      <td>8.74</td>\n",
              "      <td>53.0</td>\n",
              "      <td>76.0</td>\n",
              "      <td>74.0</td>\n",
              "      <td>8.0</td>\n",
              "      <td>47.0</td>\n",
              "      <td>28.0</td>\n",
              "      <td>61.0</td>\n",
              "      <td>2.72</td>\n",
              "      <td>18.36</td>\n",
              "      <td>15.0</td>\n",
              "      <td>51.0</td>\n",
              "      <td>55.0</td>\n",
              "      <td>19.0</td>\n",
              "      <td>21.0</td>\n",
              "      <td>5.0</td>\n",
              "      <td>18.0</td>\n",
              "      <td>17.0</td>\n",
              "      <td>25.0</td>\n",
              "      <td>3.0</td>\n",
              "    </tr>\n",
              "    <tr>\n",
              "      <th>2794259</th>\n",
              "      <td>3.75</td>\n",
              "      <td>67.0</td>\n",
              "      <td>47.0</td>\n",
              "      <td>57.0</td>\n",
              "      <td>20.0</td>\n",
              "      <td>47.0</td>\n",
              "      <td>28.0</td>\n",
              "      <td>48.0</td>\n",
              "      <td>4.27</td>\n",
              "      <td>5.97</td>\n",
              "      <td>15.0</td>\n",
              "      <td>51.0</td>\n",
              "      <td>38.0</td>\n",
              "      <td>19.0</td>\n",
              "      <td>21.0</td>\n",
              "      <td>5.0</td>\n",
              "      <td>18.0</td>\n",
              "      <td>17.0</td>\n",
              "      <td>25.0</td>\n",
              "      <td>2.0</td>\n",
              "    </tr>\n",
              "    <tr>\n",
              "      <th>78948</th>\n",
              "      <td>15.30</td>\n",
              "      <td>67.0</td>\n",
              "      <td>76.0</td>\n",
              "      <td>60.0</td>\n",
              "      <td>8.0</td>\n",
              "      <td>44.0</td>\n",
              "      <td>31.0</td>\n",
              "      <td>61.0</td>\n",
              "      <td>4.83</td>\n",
              "      <td>22.90</td>\n",
              "      <td>15.0</td>\n",
              "      <td>51.0</td>\n",
              "      <td>55.0</td>\n",
              "      <td>19.0</td>\n",
              "      <td>21.0</td>\n",
              "      <td>5.0</td>\n",
              "      <td>18.0</td>\n",
              "      <td>29.0</td>\n",
              "      <td>25.0</td>\n",
              "      <td>2.0</td>\n",
              "    </tr>\n",
              "    <tr>\n",
              "      <th>...</th>\n",
              "      <td>...</td>\n",
              "      <td>...</td>\n",
              "      <td>...</td>\n",
              "      <td>...</td>\n",
              "      <td>...</td>\n",
              "      <td>...</td>\n",
              "      <td>...</td>\n",
              "      <td>...</td>\n",
              "      <td>...</td>\n",
              "      <td>...</td>\n",
              "      <td>...</td>\n",
              "      <td>...</td>\n",
              "      <td>...</td>\n",
              "      <td>...</td>\n",
              "      <td>...</td>\n",
              "      <td>...</td>\n",
              "      <td>...</td>\n",
              "      <td>...</td>\n",
              "      <td>...</td>\n",
              "      <td>...</td>\n",
              "    </tr>\n",
              "    <tr>\n",
              "      <th>1584520</th>\n",
              "      <td>5.57</td>\n",
              "      <td>48.0</td>\n",
              "      <td>56.0</td>\n",
              "      <td>60.0</td>\n",
              "      <td>8.0</td>\n",
              "      <td>70.0</td>\n",
              "      <td>31.0</td>\n",
              "      <td>59.0</td>\n",
              "      <td>5.56</td>\n",
              "      <td>11.97</td>\n",
              "      <td>15.0</td>\n",
              "      <td>51.0</td>\n",
              "      <td>38.0</td>\n",
              "      <td>19.0</td>\n",
              "      <td>21.0</td>\n",
              "      <td>5.0</td>\n",
              "      <td>18.0</td>\n",
              "      <td>17.0</td>\n",
              "      <td>25.0</td>\n",
              "      <td>0.0</td>\n",
              "    </tr>\n",
              "    <tr>\n",
              "      <th>2921070</th>\n",
              "      <td>5.62</td>\n",
              "      <td>53.0</td>\n",
              "      <td>81.0</td>\n",
              "      <td>63.0</td>\n",
              "      <td>8.0</td>\n",
              "      <td>70.0</td>\n",
              "      <td>28.0</td>\n",
              "      <td>37.0</td>\n",
              "      <td>5.08</td>\n",
              "      <td>8.44</td>\n",
              "      <td>15.0</td>\n",
              "      <td>51.0</td>\n",
              "      <td>55.0</td>\n",
              "      <td>19.0</td>\n",
              "      <td>21.0</td>\n",
              "      <td>5.0</td>\n",
              "      <td>18.0</td>\n",
              "      <td>17.0</td>\n",
              "      <td>25.0</td>\n",
              "      <td>0.0</td>\n",
              "    </tr>\n",
              "    <tr>\n",
              "      <th>2053944</th>\n",
              "      <td>6.23</td>\n",
              "      <td>53.0</td>\n",
              "      <td>81.0</td>\n",
              "      <td>63.0</td>\n",
              "      <td>8.0</td>\n",
              "      <td>52.0</td>\n",
              "      <td>28.0</td>\n",
              "      <td>48.0</td>\n",
              "      <td>3.63</td>\n",
              "      <td>11.73</td>\n",
              "      <td>15.0</td>\n",
              "      <td>51.0</td>\n",
              "      <td>55.0</td>\n",
              "      <td>19.0</td>\n",
              "      <td>21.0</td>\n",
              "      <td>18.0</td>\n",
              "      <td>23.0</td>\n",
              "      <td>17.0</td>\n",
              "      <td>48.0</td>\n",
              "      <td>0.0</td>\n",
              "    </tr>\n",
              "    <tr>\n",
              "      <th>44159</th>\n",
              "      <td>7.30</td>\n",
              "      <td>71.0</td>\n",
              "      <td>76.0</td>\n",
              "      <td>57.0</td>\n",
              "      <td>20.0</td>\n",
              "      <td>66.0</td>\n",
              "      <td>28.0</td>\n",
              "      <td>59.0</td>\n",
              "      <td>11.47</td>\n",
              "      <td>26.34</td>\n",
              "      <td>15.0</td>\n",
              "      <td>58.0</td>\n",
              "      <td>55.0</td>\n",
              "      <td>19.0</td>\n",
              "      <td>21.0</td>\n",
              "      <td>5.0</td>\n",
              "      <td>18.0</td>\n",
              "      <td>17.0</td>\n",
              "      <td>25.0</td>\n",
              "      <td>2.0</td>\n",
              "    </tr>\n",
              "    <tr>\n",
              "      <th>2244255</th>\n",
              "      <td>7.20</td>\n",
              "      <td>53.0</td>\n",
              "      <td>76.0</td>\n",
              "      <td>63.0</td>\n",
              "      <td>8.0</td>\n",
              "      <td>47.0</td>\n",
              "      <td>28.0</td>\n",
              "      <td>61.0</td>\n",
              "      <td>6.36</td>\n",
              "      <td>9.75</td>\n",
              "      <td>15.0</td>\n",
              "      <td>51.0</td>\n",
              "      <td>46.0</td>\n",
              "      <td>19.0</td>\n",
              "      <td>21.0</td>\n",
              "      <td>5.0</td>\n",
              "      <td>18.0</td>\n",
              "      <td>17.0</td>\n",
              "      <td>36.0</td>\n",
              "      <td>0.0</td>\n",
              "    </tr>\n",
              "  </tbody>\n",
              "</table>\n",
              "<p>623389 rows × 20 columns</p>\n",
              "</div>"
            ],
            "text/plain": [
              "         cap-diameter  cap-shape  cap-surface  cap-color  \\\n",
              "1745452          4.00       53.0         76.0       63.0   \n",
              "288331           9.30       63.0         76.0       63.0   \n",
              "421615           8.74       53.0         76.0       74.0   \n",
              "2794259          3.75       67.0         47.0       57.0   \n",
              "78948           15.30       67.0         76.0       60.0   \n",
              "...               ...        ...          ...        ...   \n",
              "1584520          5.57       48.0         56.0       60.0   \n",
              "2921070          5.62       53.0         81.0       63.0   \n",
              "2053944          6.23       53.0         81.0       63.0   \n",
              "44159            7.30       71.0         76.0       57.0   \n",
              "2244255          7.20       53.0         76.0       63.0   \n",
              "\n",
              "         does-bruise-or-bleed  gill-attachment  gill-spacing  gill-color  \\\n",
              "1745452                   8.0             44.0          31.0        61.0   \n",
              "288331                    8.0             44.0          28.0        59.0   \n",
              "421615                    8.0             47.0          28.0        61.0   \n",
              "2794259                  20.0             47.0          28.0        48.0   \n",
              "78948                     8.0             44.0          31.0        61.0   \n",
              "...                       ...              ...           ...         ...   \n",
              "1584520                   8.0             70.0          31.0        59.0   \n",
              "2921070                   8.0             70.0          28.0        37.0   \n",
              "2053944                   8.0             52.0          28.0        48.0   \n",
              "44159                    20.0             66.0          28.0        59.0   \n",
              "2244255                   8.0             47.0          28.0        61.0   \n",
              "\n",
              "         stem-height  stem-width  stem-root  stem-surface  stem-color  \\\n",
              "1745452         7.55        7.06       15.0          44.0        47.0   \n",
              "288331          5.00       26.53       15.0          51.0        46.0   \n",
              "421615          2.72       18.36       15.0          51.0        55.0   \n",
              "2794259         4.27        5.97       15.0          51.0        38.0   \n",
              "78948           4.83       22.90       15.0          51.0        55.0   \n",
              "...              ...         ...        ...           ...         ...   \n",
              "1584520         5.56       11.97       15.0          51.0        38.0   \n",
              "2921070         5.08        8.44       15.0          51.0        55.0   \n",
              "2053944         3.63       11.73       15.0          51.0        55.0   \n",
              "44159          11.47       26.34       15.0          58.0        55.0   \n",
              "2244255         6.36        9.75       15.0          51.0        46.0   \n",
              "\n",
              "         veil-type  veil-color  has-ring  ring-type  spore-print-color  \\\n",
              "1745452       19.0        21.0       5.0       18.0               17.0   \n",
              "288331        19.0        21.0       5.0       18.0               17.0   \n",
              "421615        19.0        21.0       5.0       18.0               17.0   \n",
              "2794259       19.0        21.0       5.0       18.0               17.0   \n",
              "78948         19.0        21.0       5.0       18.0               29.0   \n",
              "...            ...         ...       ...        ...                ...   \n",
              "1584520       19.0        21.0       5.0       18.0               17.0   \n",
              "2921070       19.0        21.0       5.0       18.0               17.0   \n",
              "2053944       19.0        21.0      18.0       23.0               17.0   \n",
              "44159         19.0        21.0       5.0       18.0               17.0   \n",
              "2244255       19.0        21.0       5.0       18.0               17.0   \n",
              "\n",
              "         habitat  season  \n",
              "1745452     25.0     1.0  \n",
              "288331      25.0     2.0  \n",
              "421615      25.0     3.0  \n",
              "2794259     25.0     2.0  \n",
              "78948       25.0     2.0  \n",
              "...          ...     ...  \n",
              "1584520     25.0     0.0  \n",
              "2921070     25.0     0.0  \n",
              "2053944     48.0     0.0  \n",
              "44159       25.0     2.0  \n",
              "2244255     36.0     0.0  \n",
              "\n",
              "[623389 rows x 20 columns]"
            ]
          },
          "execution_count": 113,
          "metadata": {},
          "output_type": "execute_result"
        }
      ],
      "source": [
        "test_X"
      ]
    },
    {
      "cell_type": "code",
      "execution_count": 114,
      "metadata": {
        "colab": {
          "base_uri": "https://localhost:8080/"
        },
        "execution": {
          "iopub.execute_input": "2024-08-23T05:39:31.421556Z",
          "iopub.status.busy": "2024-08-23T05:39:31.420082Z",
          "iopub.status.idle": "2024-08-23T05:39:31.735073Z",
          "shell.execute_reply": "2024-08-23T05:39:31.733809Z",
          "shell.execute_reply.started": "2024-08-23T05:39:31.421489Z"
        },
        "id": "udA0OAFBYfEd",
        "outputId": "e14982e1-6b0f-4f4d-f15a-4d9bb3f19db7",
        "trusted": true
      },
      "outputs": [
        {
          "name": "stdout",
          "output_type": "stream",
          "text": [
            "MCC: 0.9828627766861813\n"
          ]
        }
      ],
      "source": [
        "score = matthews_corrcoef(test_y, y_pred)\n",
        "print('MCC:', score)"
      ]
    },
    {
      "cell_type": "code",
      "execution_count": 115,
      "metadata": {
        "execution": {
          "iopub.execute_input": "2024-08-23T05:39:31.73728Z",
          "iopub.status.busy": "2024-08-23T05:39:31.736848Z",
          "iopub.status.idle": "2024-08-23T05:39:38.953321Z",
          "shell.execute_reply": "2024-08-23T05:39:38.951764Z",
          "shell.execute_reply.started": "2024-08-23T05:39:31.73724Z"
        },
        "id": "ZPVwypO5YfEd",
        "trusted": true
      },
      "outputs": [],
      "source": [
        "test_pred_prob = XGB.predict(df_test)"
      ]
    },
    {
      "cell_type": "code",
      "execution_count": 116,
      "metadata": {
        "colab": {
          "base_uri": "https://localhost:8080/"
        },
        "execution": {
          "iopub.execute_input": "2024-08-23T05:39:38.955172Z",
          "iopub.status.busy": "2024-08-23T05:39:38.954775Z",
          "iopub.status.idle": "2024-08-23T05:39:38.963666Z",
          "shell.execute_reply": "2024-08-23T05:39:38.962398Z",
          "shell.execute_reply.started": "2024-08-23T05:39:38.955132Z"
        },
        "id": "OFZnyMo2YfEd",
        "outputId": "4c5873ee-dfd5-4461-ce5a-c4742aae6787",
        "trusted": true
      },
      "outputs": [
        {
          "data": {
            "text/plain": [
              "array([0, 1, 1, ..., 1, 0, 0])"
            ]
          },
          "execution_count": 116,
          "metadata": {},
          "output_type": "execute_result"
        }
      ],
      "source": [
        "test_pred_prob"
      ]
    },
    {
      "cell_type": "code",
      "execution_count": 117,
      "metadata": {
        "execution": {
          "iopub.execute_input": "2024-08-23T05:39:38.966305Z",
          "iopub.status.busy": "2024-08-23T05:39:38.965863Z",
          "iopub.status.idle": "2024-08-23T05:39:39.067921Z",
          "shell.execute_reply": "2024-08-23T05:39:39.066448Z",
          "shell.execute_reply.started": "2024-08-23T05:39:38.966262Z"
        },
        "id": "z4_v4AkkYfEd",
        "trusted": true
      },
      "outputs": [],
      "source": [
        "#test_pred_binary = (test_pred_prob > 0.5).astype(int)\n",
        "test_pred_class = le.inverse_transform(test_pred_prob)"
      ]
    },
    {
      "cell_type": "code",
      "execution_count": 118,
      "metadata": {
        "execution": {
          "iopub.execute_input": "2024-08-23T05:39:39.070215Z",
          "iopub.status.busy": "2024-08-23T05:39:39.069769Z",
          "iopub.status.idle": "2024-08-23T05:39:39.104371Z",
          "shell.execute_reply": "2024-08-23T05:39:39.103085Z",
          "shell.execute_reply.started": "2024-08-23T05:39:39.070171Z"
        },
        "id": "PfvcenbDYfEd",
        "trusted": true
      },
      "outputs": [],
      "source": [
        "df_sub['class']= test_pred_class"
      ]
    },
    {
      "cell_type": "markdown",
      "metadata": {
        "id": "T35pK3eVYfEd"
      },
      "source": [
        "<div class=\"alert alert-success\">  \n",
        "    <h1 align=\"center\" style=\"color:darkgoldenrod;\">🗞📜Final Submission♒🌊</h1>  \n",
        "     \n",
        "</div>"
      ]
    },
    {
      "cell_type": "code",
      "execution_count": 119,
      "metadata": {
        "colab": {
          "base_uri": "https://localhost:8080/",
          "height": 423
        },
        "execution": {
          "iopub.execute_input": "2024-08-23T05:39:39.10667Z",
          "iopub.status.busy": "2024-08-23T05:39:39.10599Z",
          "iopub.status.idle": "2024-08-23T05:39:42.633687Z",
          "shell.execute_reply": "2024-08-23T05:39:42.632301Z",
          "shell.execute_reply.started": "2024-08-23T05:39:39.106595Z"
        },
        "id": "WuwffjenYfEd",
        "outputId": "fd6d6e2b-2b1d-41e4-f163-d55656e3c7c1",
        "trusted": true
      },
      "outputs": [],
      "source": [
        "#df_sub.to_csv('submission.csv', index = False)\n",
        "#pd.read_csv('submission.csv')"
      ]
    },
    {
      "cell_type": "code",
      "execution_count": 120,
      "metadata": {
        "colab": {
          "base_uri": "https://localhost:8080/",
          "height": 463
        },
        "execution": {
          "iopub.execute_input": "2024-08-23T05:39:42.636199Z",
          "iopub.status.busy": "2024-08-23T05:39:42.635756Z",
          "iopub.status.idle": "2024-08-23T05:39:44.023984Z",
          "shell.execute_reply": "2024-08-23T05:39:44.02256Z",
          "shell.execute_reply.started": "2024-08-23T05:39:42.636149Z"
        },
        "id": "ZOWnGcRrYfEd",
        "outputId": "609abdab-5136-4503-9671-ed621a9307fc",
        "trusted": true
      },
      "outputs": [
        {
          "data": {
            "text/plain": [
              "<Axes: >"
            ]
          },
          "execution_count": 120,
          "metadata": {},
          "output_type": "execute_result"
        },
        {
          "data": {
            "image/png": "[encoded data removed]",
            "text/plain": [
              "<Figure size 640x480 with 1 Axes>"
            ]
          },
          "metadata": {},
          "output_type": "display_data"
        }
      ],
      "source": [
        "df_sub['class'].hist()"
      ]
    },
    {
      "cell_type": "markdown",
      "metadata": {},
      "source": [
        "<p style=\"font-family: 'Amiri', serif; font-size: 3rem; color: black; text-align: center; margin: 0; text-shadow: 2px 2px 4px rgba(0, 0, 0, 0.3); background-color: grey; padding: 10px; border-radius: 10px; border: 7px solid cyan; width: 95%;\">\n",
        "  <span style=\"font-weight: bold; color: blue; animation: pulse 2s infinite;\">💾Save </span>\n",
        "  <span style=\"font-style: italic; color: #2ca02c; animation: pulse 2s infinite;\"> the model 💾</span>\n",
        "</p>"
      ]
    },
    {
      "cell_type": "code",
      "execution_count": 121,
      "metadata": {},
      "outputs": [
        {
          "name": "stdout",
          "output_type": "stream",
          "text": [
            "Modelo guardado como xgb_model_20240824_1820.joblib\n"
          ]
        }
      ],
      "source": [
        "import joblib\n",
        "from datetime import datetime\n",
        "\n",
        "\n",
        "# Obtén la fecha y hora actual en formato adecuado (sin segundos)\n",
        "timestamp = datetime.now().strftime('%Y%m%d_%H%M')\n",
        "\n",
        "# Crea el nombre del archivo con la fecha y hora\n",
        "filename = f'xgb_model_{timestamp}.joblib'\n",
        "\n",
        "# Guarda el modelo en un archivo con el nombre generado\n",
        "joblib.dump(XGB, filename)\n",
        "\n",
        "print(f'Modelo guardado como {filename}')\n"
      ]
    }
  ],
  "metadata": {
    "colab": {
      "name": "🌴Mushroom🎉Classification📈Analysis",
      "provenance": []
    },
    "kaggle": {
      "accelerator": "none",
      "dataSources": [
        {
          "databundleVersionId": 9045607,
          "sourceId": 76727,
          "sourceType": "competition"
        },
        {
          "datasetId": 478,
          "sourceId": 974,
          "sourceType": "datasetVersion"
        }
      ],
      "isGpuEnabled": false,
      "isInternetEnabled": true,
      "language": "python",
      "sourceType": "notebook"
    },
    "kernelspec": {
      "display_name": "Python 3",
      "language": "python",
      "name": "python3"
    },
    "language_info": {
      "codemirror_mode": {
        "name": "ipython",
        "version": 3
      },
      "file_extension": ".py",
      "mimetype": "text/x-python",
      "name": "python",
      "nbconvert_exporter": "python",
      "pygments_lexer": "ipython3",
      "version": "3.12.0"
    }
  },
  "nbformat": 4,
  "nbformat_minor": 0
}
